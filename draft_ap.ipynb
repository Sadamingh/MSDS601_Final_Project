{
  "nbformat": 4,
  "nbformat_minor": 0,
  "metadata": {
    "colab": {
      "name": "draft-ap.ipynb",
      "provenance": [],
      "include_colab_link": true
    },
    "kernelspec": {
      "name": "python3",
      "display_name": "Python 3"
    }
  },
  "cells": [
    {
      "cell_type": "markdown",
      "metadata": {
        "id": "view-in-github",
        "colab_type": "text"
      },
      "source": [
        "<a href=\"https://colab.research.google.com/github/Sadamingh/MSDS601_Final_Project/blob/main/draft_ap.ipynb\" target=\"_parent\"><img src=\"https://colab.research.google.com/assets/colab-badge.svg\" alt=\"Open In Colab\"/></a>"
      ]
    },
    {
      "cell_type": "code",
      "metadata": {
        "id": "NuwmONLncbwN"
      },
      "source": [
        "import copy\n",
        "from math import *\n",
        "\n",
        "import pandas as pd\n",
        "import numpy as np\n",
        "import scipy\n",
        "from scipy import stats\n",
        "from scipy.stats import kstest\n",
        "from scipy.stats import boxcox\n",
        "import scipy.linalg as linalg\n",
        "\n",
        "from sklearn import linear_model\n",
        "import statsmodels.api as sm\n",
        "import statsmodels.formula.api as smf\n",
        "from statsmodels.stats.diagnostic import het_breuschpagan\n",
        "from patsy import dmatrices\n",
        "from statsmodels.stats.outliers_influence import variance_inflation_factor\n",
        "\n",
        "import matplotlib.pyplot as plt\n",
        "import seaborn as sns\n",
        "%config InlineBackend.figure_format='retina'"
      ],
      "execution_count": null,
      "outputs": []
    },
    {
      "cell_type": "code",
      "metadata": {
        "colab": {
          "base_uri": "https://localhost:8080/",
          "height": 204
        },
        "id": "sCEYFjCPdUOi",
        "outputId": "7097001f-7e76-45bb-e7f9-5ef8902e402a"
      },
      "source": [
        "df = pd.read_csv('https://raw.githubusercontent.com/Sadamingh/MSDS601_Final_Project/main/insurance.csv')\n",
        "df.head()"
      ],
      "execution_count": null,
      "outputs": [
        {
          "output_type": "execute_result",
          "data": {
            "text/html": [
              "<div>\n",
              "<style scoped>\n",
              "    .dataframe tbody tr th:only-of-type {\n",
              "        vertical-align: middle;\n",
              "    }\n",
              "\n",
              "    .dataframe tbody tr th {\n",
              "        vertical-align: top;\n",
              "    }\n",
              "\n",
              "    .dataframe thead th {\n",
              "        text-align: right;\n",
              "    }\n",
              "</style>\n",
              "<table border=\"1\" class=\"dataframe\">\n",
              "  <thead>\n",
              "    <tr style=\"text-align: right;\">\n",
              "      <th></th>\n",
              "      <th>age</th>\n",
              "      <th>sex</th>\n",
              "      <th>bmi</th>\n",
              "      <th>children</th>\n",
              "      <th>smoker</th>\n",
              "      <th>region</th>\n",
              "      <th>charges</th>\n",
              "    </tr>\n",
              "  </thead>\n",
              "  <tbody>\n",
              "    <tr>\n",
              "      <th>0</th>\n",
              "      <td>19</td>\n",
              "      <td>female</td>\n",
              "      <td>27.900</td>\n",
              "      <td>0</td>\n",
              "      <td>yes</td>\n",
              "      <td>southwest</td>\n",
              "      <td>16884.92400</td>\n",
              "    </tr>\n",
              "    <tr>\n",
              "      <th>1</th>\n",
              "      <td>18</td>\n",
              "      <td>male</td>\n",
              "      <td>33.770</td>\n",
              "      <td>1</td>\n",
              "      <td>no</td>\n",
              "      <td>southeast</td>\n",
              "      <td>1725.55230</td>\n",
              "    </tr>\n",
              "    <tr>\n",
              "      <th>2</th>\n",
              "      <td>28</td>\n",
              "      <td>male</td>\n",
              "      <td>33.000</td>\n",
              "      <td>3</td>\n",
              "      <td>no</td>\n",
              "      <td>southeast</td>\n",
              "      <td>4449.46200</td>\n",
              "    </tr>\n",
              "    <tr>\n",
              "      <th>3</th>\n",
              "      <td>33</td>\n",
              "      <td>male</td>\n",
              "      <td>22.705</td>\n",
              "      <td>0</td>\n",
              "      <td>no</td>\n",
              "      <td>northwest</td>\n",
              "      <td>21984.47061</td>\n",
              "    </tr>\n",
              "    <tr>\n",
              "      <th>4</th>\n",
              "      <td>32</td>\n",
              "      <td>male</td>\n",
              "      <td>28.880</td>\n",
              "      <td>0</td>\n",
              "      <td>no</td>\n",
              "      <td>northwest</td>\n",
              "      <td>3866.85520</td>\n",
              "    </tr>\n",
              "  </tbody>\n",
              "</table>\n",
              "</div>"
            ],
            "text/plain": [
              "   age     sex     bmi  children smoker     region      charges\n",
              "0   19  female  27.900         0    yes  southwest  16884.92400\n",
              "1   18    male  33.770         1     no  southeast   1725.55230\n",
              "2   28    male  33.000         3     no  southeast   4449.46200\n",
              "3   33    male  22.705         0     no  northwest  21984.47061\n",
              "4   32    male  28.880         0     no  northwest   3866.85520"
            ]
          },
          "metadata": {
            "tags": []
          },
          "execution_count": 4
        }
      ]
    },
    {
      "cell_type": "markdown",
      "metadata": {
        "id": "E7FMJRVWea1W"
      },
      "source": [
        "## 1. Check Multicollinearity"
      ]
    },
    {
      "cell_type": "code",
      "metadata": {
        "colab": {
          "base_uri": "https://localhost:8080/",
          "height": 328
        },
        "id": "IxiPEdA7eYbZ",
        "outputId": "45b9d14d-d779-4606-e756-4fc67445d53f"
      },
      "source": [
        "y, X = dmatrices('charges ~ age + bmi + children + sex + smoker + region', data=df, return_type='dataframe')\n",
        "\n",
        "vif = pd.DataFrame()\n",
        "vif[\"VIF Factor\"] = [variance_inflation_factor(X.values, i) for i in range(X.shape[1])]\n",
        "vif[\"features\"] = X.columns\n",
        "vif[\"Multicollinearity\"] = vif[\"VIF Factor\"] >= 10\n",
        "vif"
      ],
      "execution_count": null,
      "outputs": [
        {
          "output_type": "execute_result",
          "data": {
            "text/html": [
              "<div>\n",
              "<style scoped>\n",
              "    .dataframe tbody tr th:only-of-type {\n",
              "        vertical-align: middle;\n",
              "    }\n",
              "\n",
              "    .dataframe tbody tr th {\n",
              "        vertical-align: top;\n",
              "    }\n",
              "\n",
              "    .dataframe thead th {\n",
              "        text-align: right;\n",
              "    }\n",
              "</style>\n",
              "<table border=\"1\" class=\"dataframe\">\n",
              "  <thead>\n",
              "    <tr style=\"text-align: right;\">\n",
              "      <th></th>\n",
              "      <th>VIF Factor</th>\n",
              "      <th>features</th>\n",
              "      <th>Multicollinearity</th>\n",
              "    </tr>\n",
              "  </thead>\n",
              "  <tbody>\n",
              "    <tr>\n",
              "      <th>0</th>\n",
              "      <td>35.527488</td>\n",
              "      <td>Intercept</td>\n",
              "      <td>True</td>\n",
              "    </tr>\n",
              "    <tr>\n",
              "      <th>1</th>\n",
              "      <td>1.008900</td>\n",
              "      <td>sex[T.male]</td>\n",
              "      <td>False</td>\n",
              "    </tr>\n",
              "    <tr>\n",
              "      <th>2</th>\n",
              "      <td>1.012074</td>\n",
              "      <td>smoker[T.yes]</td>\n",
              "      <td>False</td>\n",
              "    </tr>\n",
              "    <tr>\n",
              "      <th>3</th>\n",
              "      <td>1.518823</td>\n",
              "      <td>region[T.northwest]</td>\n",
              "      <td>False</td>\n",
              "    </tr>\n",
              "    <tr>\n",
              "      <th>4</th>\n",
              "      <td>1.652230</td>\n",
              "      <td>region[T.southeast]</td>\n",
              "      <td>False</td>\n",
              "    </tr>\n",
              "    <tr>\n",
              "      <th>5</th>\n",
              "      <td>1.529411</td>\n",
              "      <td>region[T.southwest]</td>\n",
              "      <td>False</td>\n",
              "    </tr>\n",
              "    <tr>\n",
              "      <th>6</th>\n",
              "      <td>1.016822</td>\n",
              "      <td>age</td>\n",
              "      <td>False</td>\n",
              "    </tr>\n",
              "    <tr>\n",
              "      <th>7</th>\n",
              "      <td>1.106630</td>\n",
              "      <td>bmi</td>\n",
              "      <td>False</td>\n",
              "    </tr>\n",
              "    <tr>\n",
              "      <th>8</th>\n",
              "      <td>1.004011</td>\n",
              "      <td>children</td>\n",
              "      <td>False</td>\n",
              "    </tr>\n",
              "  </tbody>\n",
              "</table>\n",
              "</div>"
            ],
            "text/plain": [
              "   VIF Factor             features  Multicollinearity\n",
              "0   35.527488            Intercept               True\n",
              "1    1.008900          sex[T.male]              False\n",
              "2    1.012074        smoker[T.yes]              False\n",
              "3    1.518823  region[T.northwest]              False\n",
              "4    1.652230  region[T.southeast]              False\n",
              "5    1.529411  region[T.southwest]              False\n",
              "6    1.016822                  age              False\n",
              "7    1.106630                  bmi              False\n",
              "8    1.004011             children              False"
            ]
          },
          "metadata": {
            "tags": []
          },
          "execution_count": 6
        }
      ]
    },
    {
      "cell_type": "markdown",
      "metadata": {
        "id": "8ey3JRAbegIJ"
      },
      "source": [
        "## 2.  Fit in the model"
      ]
    },
    {
      "cell_type": "code",
      "metadata": {
        "colab": {
          "base_uri": "https://localhost:8080/",
          "height": 591
        },
        "id": "6tjBjwj0ed7D",
        "outputId": "db484a82-5542-41c2-b296-52a3a2e717b8"
      },
      "source": [
        "model = smf.ols('charges ~ age + bmi + children + sex + smoker + region', data=df).fit()\n",
        "model.summary()"
      ],
      "execution_count": null,
      "outputs": [
        {
          "output_type": "execute_result",
          "data": {
            "text/html": [
              "<table class=\"simpletable\">\n",
              "<caption>OLS Regression Results</caption>\n",
              "<tr>\n",
              "  <th>Dep. Variable:</th>         <td>charges</td>     <th>  R-squared:         </th> <td>   0.751</td> \n",
              "</tr>\n",
              "<tr>\n",
              "  <th>Model:</th>                   <td>OLS</td>       <th>  Adj. R-squared:    </th> <td>   0.749</td> \n",
              "</tr>\n",
              "<tr>\n",
              "  <th>Method:</th>             <td>Least Squares</td>  <th>  F-statistic:       </th> <td>   500.8</td> \n",
              "</tr>\n",
              "<tr>\n",
              "  <th>Date:</th>             <td>Sun, 29 Nov 2020</td> <th>  Prob (F-statistic):</th>  <td>  0.00</td>  \n",
              "</tr>\n",
              "<tr>\n",
              "  <th>Time:</th>                 <td>14:48:42</td>     <th>  Log-Likelihood:    </th> <td> -13548.</td> \n",
              "</tr>\n",
              "<tr>\n",
              "  <th>No. Observations:</th>      <td>  1338</td>      <th>  AIC:               </th> <td>2.711e+04</td>\n",
              "</tr>\n",
              "<tr>\n",
              "  <th>Df Residuals:</th>          <td>  1329</td>      <th>  BIC:               </th> <td>2.716e+04</td>\n",
              "</tr>\n",
              "<tr>\n",
              "  <th>Df Model:</th>              <td>     8</td>      <th>                     </th>     <td> </td>    \n",
              "</tr>\n",
              "<tr>\n",
              "  <th>Covariance Type:</th>      <td>nonrobust</td>    <th>                     </th>     <td> </td>    \n",
              "</tr>\n",
              "</table>\n",
              "<table class=\"simpletable\">\n",
              "<tr>\n",
              "           <td></td>              <th>coef</th>     <th>std err</th>      <th>t</th>      <th>P>|t|</th>  <th>[0.025</th>    <th>0.975]</th>  \n",
              "</tr>\n",
              "<tr>\n",
              "  <th>Intercept</th>           <td>-1.194e+04</td> <td>  987.819</td> <td>  -12.086</td> <td> 0.000</td> <td>-1.39e+04</td> <td>   -1e+04</td>\n",
              "</tr>\n",
              "<tr>\n",
              "  <th>sex[T.male]</th>         <td> -131.3144</td> <td>  332.945</td> <td>   -0.394</td> <td> 0.693</td> <td> -784.470</td> <td>  521.842</td>\n",
              "</tr>\n",
              "<tr>\n",
              "  <th>smoker[T.yes]</th>       <td> 2.385e+04</td> <td>  413.153</td> <td>   57.723</td> <td> 0.000</td> <td>  2.3e+04</td> <td> 2.47e+04</td>\n",
              "</tr>\n",
              "<tr>\n",
              "  <th>region[T.northwest]</th> <td> -352.9639</td> <td>  476.276</td> <td>   -0.741</td> <td> 0.459</td> <td>-1287.298</td> <td>  581.370</td>\n",
              "</tr>\n",
              "<tr>\n",
              "  <th>region[T.southeast]</th> <td>-1035.0220</td> <td>  478.692</td> <td>   -2.162</td> <td> 0.031</td> <td>-1974.097</td> <td>  -95.947</td>\n",
              "</tr>\n",
              "<tr>\n",
              "  <th>region[T.southwest]</th> <td> -960.0510</td> <td>  477.933</td> <td>   -2.009</td> <td> 0.045</td> <td>-1897.636</td> <td>  -22.466</td>\n",
              "</tr>\n",
              "<tr>\n",
              "  <th>age</th>                 <td>  256.8564</td> <td>   11.899</td> <td>   21.587</td> <td> 0.000</td> <td>  233.514</td> <td>  280.199</td>\n",
              "</tr>\n",
              "<tr>\n",
              "  <th>bmi</th>                 <td>  339.1935</td> <td>   28.599</td> <td>   11.860</td> <td> 0.000</td> <td>  283.088</td> <td>  395.298</td>\n",
              "</tr>\n",
              "<tr>\n",
              "  <th>children</th>            <td>  475.5005</td> <td>  137.804</td> <td>    3.451</td> <td> 0.001</td> <td>  205.163</td> <td>  745.838</td>\n",
              "</tr>\n",
              "</table>\n",
              "<table class=\"simpletable\">\n",
              "<tr>\n",
              "  <th>Omnibus:</th>       <td>300.366</td> <th>  Durbin-Watson:     </th> <td>   2.088</td> \n",
              "</tr>\n",
              "<tr>\n",
              "  <th>Prob(Omnibus):</th> <td> 0.000</td>  <th>  Jarque-Bera (JB):  </th> <td> 718.887</td> \n",
              "</tr>\n",
              "<tr>\n",
              "  <th>Skew:</th>          <td> 1.211</td>  <th>  Prob(JB):          </th> <td>7.86e-157</td>\n",
              "</tr>\n",
              "<tr>\n",
              "  <th>Kurtosis:</th>      <td> 5.651</td>  <th>  Cond. No.          </th> <td>    311.</td> \n",
              "</tr>\n",
              "</table><br/><br/>Warnings:<br/>[1] Standard Errors assume that the covariance matrix of the errors is correctly specified."
            ],
            "text/plain": [
              "<class 'statsmodels.iolib.summary.Summary'>\n",
              "\"\"\"\n",
              "                            OLS Regression Results                            \n",
              "==============================================================================\n",
              "Dep. Variable:                charges   R-squared:                       0.751\n",
              "Model:                            OLS   Adj. R-squared:                  0.749\n",
              "Method:                 Least Squares   F-statistic:                     500.8\n",
              "Date:                Sun, 29 Nov 2020   Prob (F-statistic):               0.00\n",
              "Time:                        14:48:42   Log-Likelihood:                -13548.\n",
              "No. Observations:                1338   AIC:                         2.711e+04\n",
              "Df Residuals:                    1329   BIC:                         2.716e+04\n",
              "Df Model:                           8                                         \n",
              "Covariance Type:            nonrobust                                         \n",
              "=======================================================================================\n",
              "                          coef    std err          t      P>|t|      [0.025      0.975]\n",
              "---------------------------------------------------------------------------------------\n",
              "Intercept           -1.194e+04    987.819    -12.086      0.000   -1.39e+04      -1e+04\n",
              "sex[T.male]          -131.3144    332.945     -0.394      0.693    -784.470     521.842\n",
              "smoker[T.yes]        2.385e+04    413.153     57.723      0.000     2.3e+04    2.47e+04\n",
              "region[T.northwest]  -352.9639    476.276     -0.741      0.459   -1287.298     581.370\n",
              "region[T.southeast] -1035.0220    478.692     -2.162      0.031   -1974.097     -95.947\n",
              "region[T.southwest]  -960.0510    477.933     -2.009      0.045   -1897.636     -22.466\n",
              "age                   256.8564     11.899     21.587      0.000     233.514     280.199\n",
              "bmi                   339.1935     28.599     11.860      0.000     283.088     395.298\n",
              "children              475.5005    137.804      3.451      0.001     205.163     745.838\n",
              "==============================================================================\n",
              "Omnibus:                      300.366   Durbin-Watson:                   2.088\n",
              "Prob(Omnibus):                  0.000   Jarque-Bera (JB):              718.887\n",
              "Skew:                           1.211   Prob(JB):                    7.86e-157\n",
              "Kurtosis:                       5.651   Cond. No.                         311.\n",
              "==============================================================================\n",
              "\n",
              "Warnings:\n",
              "[1] Standard Errors assume that the covariance matrix of the errors is correctly specified.\n",
              "\"\"\""
            ]
          },
          "metadata": {
            "tags": []
          },
          "execution_count": 7
        }
      ]
    },
    {
      "cell_type": "markdown",
      "metadata": {
        "id": "ief0dgZ2el3k"
      },
      "source": [
        "## 3. Check Influential Points"
      ]
    },
    {
      "cell_type": "markdown",
      "metadata": {
        "id": "gzzJ0YUUens6"
      },
      "source": [
        "### (1) Check Externally Studentized Residuals"
      ]
    },
    {
      "cell_type": "code",
      "metadata": {
        "colab": {
          "base_uri": "https://localhost:8080/",
          "height": 204
        },
        "id": "UWxVATMQejFg",
        "outputId": "190297e4-bb4d-4573-8ba7-2c2bf1e89dda"
      },
      "source": [
        "infl = model.get_influence()\n",
        "ex_studti = infl.resid_studentized_external\n",
        "\n",
        "n = len(ex_studti)\n",
        "k = model.df_model + 1\n",
        "\n",
        "seuil_stud = scipy.stats.t.ppf(0.975, df=n-k-1)\n",
        "atyp_stud = np.abs(ex_studti) >= seuil_stud\n",
        "\n",
        "ex_studenti = pd.DataFrame()\n",
        "ex_studenti['Index of Position'] = df.index[atyp_stud]\n",
        "ex_studenti['External Studendized Residual'] = ex_studti[atyp_stud]\n",
        "ex_studenti['Original Residuals'] = list(model.resid[atyp_stud])\n",
        "ex_studenti.head()"
      ],
      "execution_count": null,
      "outputs": [
        {
          "output_type": "execute_result",
          "data": {
            "text/html": [
              "<div>\n",
              "<style scoped>\n",
              "    .dataframe tbody tr th:only-of-type {\n",
              "        vertical-align: middle;\n",
              "    }\n",
              "\n",
              "    .dataframe tbody tr th {\n",
              "        vertical-align: top;\n",
              "    }\n",
              "\n",
              "    .dataframe thead th {\n",
              "        text-align: right;\n",
              "    }\n",
              "</style>\n",
              "<table border=\"1\" class=\"dataframe\">\n",
              "  <thead>\n",
              "    <tr style=\"text-align: right;\">\n",
              "      <th></th>\n",
              "      <th>Index of Position</th>\n",
              "      <th>External Studendized Residual</th>\n",
              "      <th>Original Residuals</th>\n",
              "    </tr>\n",
              "  </thead>\n",
              "  <tbody>\n",
              "    <tr>\n",
              "      <th>0</th>\n",
              "      <td>3</td>\n",
              "      <td>3.025106</td>\n",
              "      <td>18229.640447</td>\n",
              "    </tr>\n",
              "    <tr>\n",
              "      <th>1</th>\n",
              "      <td>9</td>\n",
              "      <td>2.827391</td>\n",
              "      <td>17038.499402</td>\n",
              "    </tr>\n",
              "    <tr>\n",
              "      <th>2</th>\n",
              "      <td>34</td>\n",
              "      <td>3.385694</td>\n",
              "      <td>20361.808397</td>\n",
              "    </tr>\n",
              "    <tr>\n",
              "      <th>3</th>\n",
              "      <td>62</td>\n",
              "      <td>2.871484</td>\n",
              "      <td>17297.049593</td>\n",
              "    </tr>\n",
              "    <tr>\n",
              "      <th>4</th>\n",
              "      <td>102</td>\n",
              "      <td>3.062004</td>\n",
              "      <td>18445.160075</td>\n",
              "    </tr>\n",
              "  </tbody>\n",
              "</table>\n",
              "</div>"
            ],
            "text/plain": [
              "   Index of Position  External Studendized Residual  Original Residuals\n",
              "0                  3                       3.025106        18229.640447\n",
              "1                  9                       2.827391        17038.499402\n",
              "2                 34                       3.385694        20361.808397\n",
              "3                 62                       2.871484        17297.049593\n",
              "4                102                       3.062004        18445.160075"
            ]
          },
          "metadata": {
            "tags": []
          },
          "execution_count": 9
        }
      ]
    },
    {
      "cell_type": "markdown",
      "metadata": {
        "id": "7qAFkqQRevKW"
      },
      "source": [
        "### (2) Check Cook's Distance"
      ]
    },
    {
      "cell_type": "code",
      "metadata": {
        "colab": {
          "base_uri": "https://localhost:8080/",
          "height": 204
        },
        "id": "FFt06LJ2epq0",
        "outputId": "50323f4e-21f8-4a74-8682-70d339aee03b"
      },
      "source": [
        "infl = model.get_influence()\n",
        "inflsum = infl.summary_frame()\n",
        "\n",
        "reg_cook = inflsum.cooks_d\n",
        "atyp_cook = np.abs(reg_cook) >= 4/n\n",
        "\n",
        "cooki = pd.DataFrame()\n",
        "cooki['Index of Position'] = df.index[atyp_cook]\n",
        "cooki['Cook\\'s Distance'] = list(reg_cook[atyp_cook])\n",
        "cooki.head()"
      ],
      "execution_count": null,
      "outputs": [
        {
          "output_type": "execute_result",
          "data": {
            "text/html": [
              "<div>\n",
              "<style scoped>\n",
              "    .dataframe tbody tr th:only-of-type {\n",
              "        vertical-align: middle;\n",
              "    }\n",
              "\n",
              "    .dataframe tbody tr th {\n",
              "        vertical-align: top;\n",
              "    }\n",
              "\n",
              "    .dataframe thead th {\n",
              "        text-align: right;\n",
              "    }\n",
              "</style>\n",
              "<table border=\"1\" class=\"dataframe\">\n",
              "  <thead>\n",
              "    <tr style=\"text-align: right;\">\n",
              "      <th></th>\n",
              "      <th>Index of Position</th>\n",
              "      <th>Cook's Distance</th>\n",
              "    </tr>\n",
              "  </thead>\n",
              "  <tbody>\n",
              "    <tr>\n",
              "      <th>0</th>\n",
              "      <td>3</td>\n",
              "      <td>0.005871</td>\n",
              "    </tr>\n",
              "    <tr>\n",
              "      <th>1</th>\n",
              "      <td>9</td>\n",
              "      <td>0.005871</td>\n",
              "    </tr>\n",
              "    <tr>\n",
              "      <th>2</th>\n",
              "      <td>34</td>\n",
              "      <td>0.010236</td>\n",
              "    </tr>\n",
              "    <tr>\n",
              "      <th>3</th>\n",
              "      <td>62</td>\n",
              "      <td>0.006641</td>\n",
              "    </tr>\n",
              "    <tr>\n",
              "      <th>4</th>\n",
              "      <td>69</td>\n",
              "      <td>0.002991</td>\n",
              "    </tr>\n",
              "  </tbody>\n",
              "</table>\n",
              "</div>"
            ],
            "text/plain": [
              "   Index of Position  Cook's Distance\n",
              "0                  3         0.005871\n",
              "1                  9         0.005871\n",
              "2                 34         0.010236\n",
              "3                 62         0.006641\n",
              "4                 69         0.002991"
            ]
          },
          "metadata": {
            "tags": []
          },
          "execution_count": 10
        }
      ]
    },
    {
      "cell_type": "markdown",
      "metadata": {
        "id": "OSLfCO9Ge-0W"
      },
      "source": [
        "### (3) Delete data points selected from both of these methods"
      ]
    },
    {
      "cell_type": "code",
      "metadata": {
        "colab": {
          "base_uri": "https://localhost:8080/",
          "height": 204
        },
        "id": "b5SJ9vFFex8Y",
        "outputId": "88f3f918-a59b-455e-efd6-b7b922832455"
      },
      "source": [
        "df_droppoints = df\n",
        "influencial_points = set(ex_studenti['Index of Position']).union(set(cooki['Index of Position']))\n",
        "\n",
        "for i in influencial_points:\n",
        "    df_droppoints = df_droppoints.drop(index=i, axis =1)\n",
        "    \n",
        "df_droppoints.head()"
      ],
      "execution_count": null,
      "outputs": [
        {
          "output_type": "execute_result",
          "data": {
            "text/html": [
              "<div>\n",
              "<style scoped>\n",
              "    .dataframe tbody tr th:only-of-type {\n",
              "        vertical-align: middle;\n",
              "    }\n",
              "\n",
              "    .dataframe tbody tr th {\n",
              "        vertical-align: top;\n",
              "    }\n",
              "\n",
              "    .dataframe thead th {\n",
              "        text-align: right;\n",
              "    }\n",
              "</style>\n",
              "<table border=\"1\" class=\"dataframe\">\n",
              "  <thead>\n",
              "    <tr style=\"text-align: right;\">\n",
              "      <th></th>\n",
              "      <th>age</th>\n",
              "      <th>sex</th>\n",
              "      <th>bmi</th>\n",
              "      <th>children</th>\n",
              "      <th>smoker</th>\n",
              "      <th>region</th>\n",
              "      <th>charges</th>\n",
              "    </tr>\n",
              "  </thead>\n",
              "  <tbody>\n",
              "    <tr>\n",
              "      <th>0</th>\n",
              "      <td>19</td>\n",
              "      <td>female</td>\n",
              "      <td>27.90</td>\n",
              "      <td>0</td>\n",
              "      <td>yes</td>\n",
              "      <td>southwest</td>\n",
              "      <td>16884.9240</td>\n",
              "    </tr>\n",
              "    <tr>\n",
              "      <th>1</th>\n",
              "      <td>18</td>\n",
              "      <td>male</td>\n",
              "      <td>33.77</td>\n",
              "      <td>1</td>\n",
              "      <td>no</td>\n",
              "      <td>southeast</td>\n",
              "      <td>1725.5523</td>\n",
              "    </tr>\n",
              "    <tr>\n",
              "      <th>2</th>\n",
              "      <td>28</td>\n",
              "      <td>male</td>\n",
              "      <td>33.00</td>\n",
              "      <td>3</td>\n",
              "      <td>no</td>\n",
              "      <td>southeast</td>\n",
              "      <td>4449.4620</td>\n",
              "    </tr>\n",
              "    <tr>\n",
              "      <th>4</th>\n",
              "      <td>32</td>\n",
              "      <td>male</td>\n",
              "      <td>28.88</td>\n",
              "      <td>0</td>\n",
              "      <td>no</td>\n",
              "      <td>northwest</td>\n",
              "      <td>3866.8552</td>\n",
              "    </tr>\n",
              "    <tr>\n",
              "      <th>5</th>\n",
              "      <td>31</td>\n",
              "      <td>female</td>\n",
              "      <td>25.74</td>\n",
              "      <td>0</td>\n",
              "      <td>no</td>\n",
              "      <td>southeast</td>\n",
              "      <td>3756.6216</td>\n",
              "    </tr>\n",
              "  </tbody>\n",
              "</table>\n",
              "</div>"
            ],
            "text/plain": [
              "   age     sex    bmi  children smoker     region     charges\n",
              "0   19  female  27.90         0    yes  southwest  16884.9240\n",
              "1   18    male  33.77         1     no  southeast   1725.5523\n",
              "2   28    male  33.00         3     no  southeast   4449.4620\n",
              "4   32    male  28.88         0     no  northwest   3866.8552\n",
              "5   31  female  25.74         0     no  southeast   3756.6216"
            ]
          },
          "metadata": {
            "tags": []
          },
          "execution_count": 11
        }
      ]
    },
    {
      "cell_type": "markdown",
      "metadata": {
        "id": "a4NWZmMMfCaH"
      },
      "source": [
        "## 4. Check Heteroscedasticity"
      ]
    },
    {
      "cell_type": "code",
      "metadata": {
        "colab": {
          "base_uri": "https://localhost:8080/",
          "height": 591
        },
        "id": "Z1xt86ZKfAUA",
        "outputId": "7c20e2f9-10d2-43a5-df6e-2b89a5984286"
      },
      "source": [
        "# fit in the new model\n",
        "model_droppoints = smf.ols('charges ~ age + bmi + children + sex + smoker + region', data=df_droppoints).fit()\n",
        "model_droppoints.summary()"
      ],
      "execution_count": null,
      "outputs": [
        {
          "output_type": "execute_result",
          "data": {
            "text/html": [
              "<table class=\"simpletable\">\n",
              "<caption>OLS Regression Results</caption>\n",
              "<tr>\n",
              "  <th>Dep. Variable:</th>         <td>charges</td>     <th>  R-squared:         </th> <td>   0.864</td> \n",
              "</tr>\n",
              "<tr>\n",
              "  <th>Model:</th>                   <td>OLS</td>       <th>  Adj. R-squared:    </th> <td>   0.863</td> \n",
              "</tr>\n",
              "<tr>\n",
              "  <th>Method:</th>             <td>Least Squares</td>  <th>  F-statistic:       </th> <td>   971.9</td> \n",
              "</tr>\n",
              "<tr>\n",
              "  <th>Date:</th>             <td>Sun, 29 Nov 2020</td> <th>  Prob (F-statistic):</th>  <td>  0.00</td>  \n",
              "</tr>\n",
              "<tr>\n",
              "  <th>Time:</th>                 <td>14:50:59</td>     <th>  Log-Likelihood:    </th> <td> -12091.</td> \n",
              "</tr>\n",
              "<tr>\n",
              "  <th>No. Observations:</th>      <td>  1237</td>      <th>  AIC:               </th> <td>2.420e+04</td>\n",
              "</tr>\n",
              "<tr>\n",
              "  <th>Df Residuals:</th>          <td>  1228</td>      <th>  BIC:               </th> <td>2.425e+04</td>\n",
              "</tr>\n",
              "<tr>\n",
              "  <th>Df Model:</th>              <td>     8</td>      <th>                     </th>     <td> </td>    \n",
              "</tr>\n",
              "<tr>\n",
              "  <th>Covariance Type:</th>      <td>nonrobust</td>    <th>                     </th>     <td> </td>    \n",
              "</tr>\n",
              "</table>\n",
              "<table class=\"simpletable\">\n",
              "<tr>\n",
              "           <td></td>              <th>coef</th>     <th>std err</th>      <th>t</th>      <th>P>|t|</th>  <th>[0.025</th>    <th>0.975]</th>  \n",
              "</tr>\n",
              "<tr>\n",
              "  <th>Intercept</th>           <td>-1.103e+04</td> <td>  737.327</td> <td>  -14.961</td> <td> 0.000</td> <td>-1.25e+04</td> <td>-9584.896</td>\n",
              "</tr>\n",
              "<tr>\n",
              "  <th>sex[T.male]</th>         <td>  -96.4388</td> <td>  244.242</td> <td>   -0.395</td> <td> 0.693</td> <td> -575.616</td> <td>  382.739</td>\n",
              "</tr>\n",
              "<tr>\n",
              "  <th>smoker[T.yes]</th>       <td>   2.5e+04</td> <td>  309.654</td> <td>   80.741</td> <td> 0.000</td> <td> 2.44e+04</td> <td> 2.56e+04</td>\n",
              "</tr>\n",
              "<tr>\n",
              "  <th>region[T.northwest]</th> <td> -949.8945</td> <td>  350.953</td> <td>   -2.707</td> <td> 0.007</td> <td>-1638.428</td> <td> -261.361</td>\n",
              "</tr>\n",
              "<tr>\n",
              "  <th>region[T.southeast]</th> <td> -976.3730</td> <td>  352.469</td> <td>   -2.770</td> <td> 0.006</td> <td>-1667.881</td> <td> -284.865</td>\n",
              "</tr>\n",
              "<tr>\n",
              "  <th>region[T.southwest]</th> <td> -919.4873</td> <td>  349.349</td> <td>   -2.632</td> <td> 0.009</td> <td>-1604.875</td> <td> -234.100</td>\n",
              "</tr>\n",
              "<tr>\n",
              "  <th>age</th>                 <td>  253.1093</td> <td>    8.716</td> <td>   29.038</td> <td> 0.000</td> <td>  236.009</td> <td>  270.210</td>\n",
              "</tr>\n",
              "<tr>\n",
              "  <th>bmi</th>                 <td>  282.3776</td> <td>   21.518</td> <td>   13.123</td> <td> 0.000</td> <td>  240.162</td> <td>  324.593</td>\n",
              "</tr>\n",
              "<tr>\n",
              "  <th>children</th>            <td>  505.9924</td> <td>  101.315</td> <td>    4.994</td> <td> 0.000</td> <td>  307.223</td> <td>  704.762</td>\n",
              "</tr>\n",
              "</table>\n",
              "<table class=\"simpletable\">\n",
              "<tr>\n",
              "  <th>Omnibus:</th>       <td>35.135</td> <th>  Durbin-Watson:     </th> <td>   2.010</td>\n",
              "</tr>\n",
              "<tr>\n",
              "  <th>Prob(Omnibus):</th> <td> 0.000</td> <th>  Jarque-Bera (JB):  </th> <td>  62.649</td>\n",
              "</tr>\n",
              "<tr>\n",
              "  <th>Skew:</th>          <td>-0.207</td> <th>  Prob(JB):          </th> <td>2.49e-14</td>\n",
              "</tr>\n",
              "<tr>\n",
              "  <th>Kurtosis:</th>      <td> 4.022</td> <th>  Cond. No.          </th> <td>    318.</td>\n",
              "</tr>\n",
              "</table><br/><br/>Warnings:<br/>[1] Standard Errors assume that the covariance matrix of the errors is correctly specified."
            ],
            "text/plain": [
              "<class 'statsmodels.iolib.summary.Summary'>\n",
              "\"\"\"\n",
              "                            OLS Regression Results                            \n",
              "==============================================================================\n",
              "Dep. Variable:                charges   R-squared:                       0.864\n",
              "Model:                            OLS   Adj. R-squared:                  0.863\n",
              "Method:                 Least Squares   F-statistic:                     971.9\n",
              "Date:                Sun, 29 Nov 2020   Prob (F-statistic):               0.00\n",
              "Time:                        14:50:59   Log-Likelihood:                -12091.\n",
              "No. Observations:                1237   AIC:                         2.420e+04\n",
              "Df Residuals:                    1228   BIC:                         2.425e+04\n",
              "Df Model:                           8                                         \n",
              "Covariance Type:            nonrobust                                         \n",
              "=======================================================================================\n",
              "                          coef    std err          t      P>|t|      [0.025      0.975]\n",
              "---------------------------------------------------------------------------------------\n",
              "Intercept           -1.103e+04    737.327    -14.961      0.000   -1.25e+04   -9584.896\n",
              "sex[T.male]           -96.4388    244.242     -0.395      0.693    -575.616     382.739\n",
              "smoker[T.yes]          2.5e+04    309.654     80.741      0.000    2.44e+04    2.56e+04\n",
              "region[T.northwest]  -949.8945    350.953     -2.707      0.007   -1638.428    -261.361\n",
              "region[T.southeast]  -976.3730    352.469     -2.770      0.006   -1667.881    -284.865\n",
              "region[T.southwest]  -919.4873    349.349     -2.632      0.009   -1604.875    -234.100\n",
              "age                   253.1093      8.716     29.038      0.000     236.009     270.210\n",
              "bmi                   282.3776     21.518     13.123      0.000     240.162     324.593\n",
              "children              505.9924    101.315      4.994      0.000     307.223     704.762\n",
              "==============================================================================\n",
              "Omnibus:                       35.135   Durbin-Watson:                   2.010\n",
              "Prob(Omnibus):                  0.000   Jarque-Bera (JB):               62.649\n",
              "Skew:                          -0.207   Prob(JB):                     2.49e-14\n",
              "Kurtosis:                       4.022   Cond. No.                         318.\n",
              "==============================================================================\n",
              "\n",
              "Warnings:\n",
              "[1] Standard Errors assume that the covariance matrix of the errors is correctly specified.\n",
              "\"\"\""
            ]
          },
          "metadata": {
            "tags": []
          },
          "execution_count": 12
        }
      ]
    },
    {
      "cell_type": "markdown",
      "metadata": {
        "id": "cG_pDqoUfIEV"
      },
      "source": [
        "### (1) Residual vs. Fitted Value Plot"
      ]
    },
    {
      "cell_type": "code",
      "metadata": {
        "colab": {
          "base_uri": "https://localhost:8080/",
          "height": 294
        },
        "id": "MwaZIVXBfEuh",
        "outputId": "b58dd33a-543a-40fc-d660-8c1c9ceb4337"
      },
      "source": [
        "fittedvals = model_droppoints.fittedvalues\n",
        "residuals = model_droppoints.resid\n",
        "\n",
        "fig, ax = plt.subplots(figsize=(6,4))\n",
        "ax.scatter(fittedvals, residuals, alpha=0.4, edgecolors='none')\n",
        "ax.hlines(0, xmin=min(fittedvals), xmax=max(fittedvals), colors='r', alpha=0.4)\n",
        "plt.xlabel(\"Fitted Values\")\n",
        "plt.ylabel(\"Residuals\")\n",
        "plt.title(\"Fitted Values vs. Residuals\")\n",
        "plt.show()"
      ],
      "execution_count": null,
      "outputs": [
        {
          "output_type": "display_data",
          "data": {
            "image/png": "[encoded data removed]",
            "text/plain": [
              "<Figure size 432x288 with 1 Axes>"
            ]
          },
          "metadata": {
            "tags": [],
            "image/png": {
              "width": 410,
              "height": 277
            },
            "needs_background": "light"
          }
        }
      ]
    },
    {
      "cell_type": "markdown",
      "metadata": {
        "id": "ZVLP9kTTgKj3"
      },
      "source": [
        "### (2) Breush-Pagan test"
      ]
    },
    {
      "cell_type": "code",
      "metadata": {
        "colab": {
          "base_uri": "https://localhost:8080/"
        },
        "id": "tnytKbutfKEx",
        "outputId": "c12fa41a-77d3-4652-89d0-73d9e68413e8"
      },
      "source": [
        "bp_test = het_breuschpagan(model_droppoints.resid, model_droppoints.model.exog)\n",
        "labels = ['BP Statistic', 'BP-Test p-value']\n",
        "bp_result = dict(zip(labels, bp_test))\n",
        "if bp_result['BP-Test p-value'] < 0.05:\n",
        "    print('Reject H0, there’s a significant heteroscedasticity problem at the 95% confidence level.')\n",
        "else:\n",
        "    print('Can\\'t reject H0, there’s no significant heteroscedasticity problem at the 95% confidence level.')"
      ],
      "execution_count": null,
      "outputs": [
        {
          "output_type": "stream",
          "text": [
            "Reject H0, there’s a significant heteroscedasticity problem at the 95% confidence level.\n"
          ],
          "name": "stdout"
        }
      ]
    },
    {
      "cell_type": "markdown",
      "metadata": {
        "id": "5TbVuJuogQwc"
      },
      "source": [
        "### (3) Log Transformation"
      ]
    },
    {
      "cell_type": "code",
      "metadata": {
        "colab": {
          "base_uri": "https://localhost:8080/",
          "height": 591
        },
        "id": "YMMsZtVsgM4Q",
        "outputId": "7c67664d-081f-42b1-fb9a-ee99e914229f"
      },
      "source": [
        "charges = df_droppoints['charges']\n",
        "charges_max = max(charges) + 1e-10\n",
        "charges_log = [log(charges_max - i) for i in charges] \n",
        "model_log = smf.ols('charges_log ~ age + bmi + children + sex + smoker + region', data=df_droppoints).fit()\n",
        "model_log.summary()"
      ],
      "execution_count": null,
      "outputs": [
        {
          "output_type": "execute_result",
          "data": {
            "text/html": [
              "<table class=\"simpletable\">\n",
              "<caption>OLS Regression Results</caption>\n",
              "<tr>\n",
              "  <th>Dep. Variable:</th>       <td>charges_log</td>   <th>  R-squared:         </th> <td>   0.256</td>\n",
              "</tr>\n",
              "<tr>\n",
              "  <th>Model:</th>                   <td>OLS</td>       <th>  Adj. R-squared:    </th> <td>   0.251</td>\n",
              "</tr>\n",
              "<tr>\n",
              "  <th>Method:</th>             <td>Least Squares</td>  <th>  F-statistic:       </th> <td>   52.75</td>\n",
              "</tr>\n",
              "<tr>\n",
              "  <th>Date:</th>             <td>Sun, 29 Nov 2020</td> <th>  Prob (F-statistic):</th> <td>1.12e-73</td>\n",
              "</tr>\n",
              "<tr>\n",
              "  <th>Time:</th>                 <td>14:56:59</td>     <th>  Log-Likelihood:    </th> <td> -1719.0</td>\n",
              "</tr>\n",
              "<tr>\n",
              "  <th>No. Observations:</th>      <td>  1237</td>      <th>  AIC:               </th> <td>   3456.</td>\n",
              "</tr>\n",
              "<tr>\n",
              "  <th>Df Residuals:</th>          <td>  1228</td>      <th>  BIC:               </th> <td>   3502.</td>\n",
              "</tr>\n",
              "<tr>\n",
              "  <th>Df Model:</th>              <td>     8</td>      <th>                     </th>     <td> </td>   \n",
              "</tr>\n",
              "<tr>\n",
              "  <th>Covariance Type:</th>      <td>nonrobust</td>    <th>                     </th>     <td> </td>   \n",
              "</tr>\n",
              "</table>\n",
              "<table class=\"simpletable\">\n",
              "<tr>\n",
              "           <td></td>              <th>coef</th>     <th>std err</th>      <th>t</th>      <th>P>|t|</th>  <th>[0.025</th>    <th>0.975]</th>  \n",
              "</tr>\n",
              "<tr>\n",
              "  <th>Intercept</th>           <td>   11.8492</td> <td>    0.168</td> <td>   70.400</td> <td> 0.000</td> <td>   11.519</td> <td>   12.179</td>\n",
              "</tr>\n",
              "<tr>\n",
              "  <th>sex[T.male]</th>         <td>   -0.0500</td> <td>    0.056</td> <td>   -0.897</td> <td> 0.370</td> <td>   -0.159</td> <td>    0.059</td>\n",
              "</tr>\n",
              "<tr>\n",
              "  <th>smoker[T.yes]</th>       <td>   -1.2844</td> <td>    0.071</td> <td>  -18.171</td> <td> 0.000</td> <td>   -1.423</td> <td>   -1.146</td>\n",
              "</tr>\n",
              "<tr>\n",
              "  <th>region[T.northwest]</th> <td>    0.0379</td> <td>    0.080</td> <td>    0.473</td> <td> 0.637</td> <td>   -0.119</td> <td>    0.195</td>\n",
              "</tr>\n",
              "<tr>\n",
              "  <th>region[T.southeast]</th> <td>   -0.0518</td> <td>    0.080</td> <td>   -0.643</td> <td> 0.520</td> <td>   -0.210</td> <td>    0.106</td>\n",
              "</tr>\n",
              "<tr>\n",
              "  <th>region[T.southwest]</th> <td>    0.0328</td> <td>    0.080</td> <td>    0.412</td> <td> 0.681</td> <td>   -0.124</td> <td>    0.189</td>\n",
              "</tr>\n",
              "<tr>\n",
              "  <th>age</th>                 <td>   -0.0132</td> <td>    0.002</td> <td>   -6.622</td> <td> 0.000</td> <td>   -0.017</td> <td>   -0.009</td>\n",
              "</tr>\n",
              "<tr>\n",
              "  <th>bmi</th>                 <td>   -0.0205</td> <td>    0.005</td> <td>   -4.166</td> <td> 0.000</td> <td>   -0.030</td> <td>   -0.011</td>\n",
              "</tr>\n",
              "<tr>\n",
              "  <th>children</th>            <td>   -0.0351</td> <td>    0.023</td> <td>   -1.519</td> <td> 0.129</td> <td>   -0.081</td> <td>    0.010</td>\n",
              "</tr>\n",
              "</table>\n",
              "<table class=\"simpletable\">\n",
              "<tr>\n",
              "  <th>Omnibus:</th>       <td>3230.049</td> <th>  Durbin-Watson:     </th>   <td>   1.914</td>  \n",
              "</tr>\n",
              "<tr>\n",
              "  <th>Prob(Omnibus):</th>  <td> 0.000</td>  <th>  Jarque-Bera (JB):  </th> <td>44441752.714</td>\n",
              "</tr>\n",
              "<tr>\n",
              "  <th>Skew:</th>           <td>-28.429</td> <th>  Prob(JB):          </th>   <td>    0.00</td>  \n",
              "</tr>\n",
              "<tr>\n",
              "  <th>Kurtosis:</th>       <td>929.831</td> <th>  Cond. No.          </th>   <td>    318.</td>  \n",
              "</tr>\n",
              "</table><br/><br/>Warnings:<br/>[1] Standard Errors assume that the covariance matrix of the errors is correctly specified."
            ],
            "text/plain": [
              "<class 'statsmodels.iolib.summary.Summary'>\n",
              "\"\"\"\n",
              "                            OLS Regression Results                            \n",
              "==============================================================================\n",
              "Dep. Variable:            charges_log   R-squared:                       0.256\n",
              "Model:                            OLS   Adj. R-squared:                  0.251\n",
              "Method:                 Least Squares   F-statistic:                     52.75\n",
              "Date:                Sun, 29 Nov 2020   Prob (F-statistic):           1.12e-73\n",
              "Time:                        14:56:59   Log-Likelihood:                -1719.0\n",
              "No. Observations:                1237   AIC:                             3456.\n",
              "Df Residuals:                    1228   BIC:                             3502.\n",
              "Df Model:                           8                                         \n",
              "Covariance Type:            nonrobust                                         \n",
              "=======================================================================================\n",
              "                          coef    std err          t      P>|t|      [0.025      0.975]\n",
              "---------------------------------------------------------------------------------------\n",
              "Intercept              11.8492      0.168     70.400      0.000      11.519      12.179\n",
              "sex[T.male]            -0.0500      0.056     -0.897      0.370      -0.159       0.059\n",
              "smoker[T.yes]          -1.2844      0.071    -18.171      0.000      -1.423      -1.146\n",
              "region[T.northwest]     0.0379      0.080      0.473      0.637      -0.119       0.195\n",
              "region[T.southeast]    -0.0518      0.080     -0.643      0.520      -0.210       0.106\n",
              "region[T.southwest]     0.0328      0.080      0.412      0.681      -0.124       0.189\n",
              "age                    -0.0132      0.002     -6.622      0.000      -0.017      -0.009\n",
              "bmi                    -0.0205      0.005     -4.166      0.000      -0.030      -0.011\n",
              "children               -0.0351      0.023     -1.519      0.129      -0.081       0.010\n",
              "==============================================================================\n",
              "Omnibus:                     3230.049   Durbin-Watson:                   1.914\n",
              "Prob(Omnibus):                  0.000   Jarque-Bera (JB):         44441752.714\n",
              "Skew:                         -28.429   Prob(JB):                         0.00\n",
              "Kurtosis:                     929.831   Cond. No.                         318.\n",
              "==============================================================================\n",
              "\n",
              "Warnings:\n",
              "[1] Standard Errors assume that the covariance matrix of the errors is correctly specified.\n",
              "\"\"\""
            ]
          },
          "metadata": {
            "tags": []
          },
          "execution_count": 15
        }
      ]
    },
    {
      "cell_type": "code",
      "metadata": {
        "colab": {
          "base_uri": "https://localhost:8080/",
          "height": 294
        },
        "id": "GDU64DBVgcb-",
        "outputId": "065f3d1f-c788-4e03-81aa-a56965850892"
      },
      "source": [
        "fittedvals = model_log.fittedvalues\n",
        "residuals = model_log.resid\n",
        "\n",
        "fig, ax = plt.subplots(figsize=(6,4))\n",
        "ax.scatter(fittedvals, residuals, alpha=0.4, edgecolors='none')\n",
        "ax.hlines(0, xmin=min(fittedvals), xmax=max(fittedvals), colors='r', alpha=0.4)\n",
        "plt.xlabel(\"Fitted Values\")\n",
        "plt.ylabel(\"Residuals\")\n",
        "plt.title(\"Fitted Values vs. Residuals\")\n",
        "plt.show()"
      ],
      "execution_count": null,
      "outputs": [
        {
          "output_type": "display_data",
          "data": {
            "image/png": "[encoded data removed]",
            "text/plain": [
              "<Figure size 432x288 with 1 Axes>"
            ]
          },
          "metadata": {
            "tags": [],
            "image/png": {
              "width": 390,
              "height": 277
            },
            "needs_background": "light"
          }
        }
      ]
    },
    {
      "cell_type": "code",
      "metadata": {
        "colab": {
          "base_uri": "https://localhost:8080/"
        },
        "id": "h2RSkLHciYWJ",
        "outputId": "0741ea31-111f-4b25-a1d4-524e49ee9e2d"
      },
      "source": [
        "bp_test = het_breuschpagan(model_log.resid, model_log.model.exog)\n",
        "labels = ['BP Statistic', 'BP-Test p-value']\n",
        "bp_result = dict(zip(labels, bp_test))\n",
        "if bp_result['BP-Test p-value'] < 0.05:\n",
        "    print('Reject H0, there’s a significant heteroscedasticity problem at the 95% confidence level.')\n",
        "else:\n",
        "    print('Can\\'t reject H0, there’s no significant heteroscedasticity problem at the 95% confidence level.')"
      ],
      "execution_count": null,
      "outputs": [
        {
          "output_type": "stream",
          "text": [
            "Can't reject H0, there’s no significant heteroscedasticity problem at the 95% confidence level.\n"
          ],
          "name": "stdout"
        }
      ]
    },
    {
      "cell_type": "markdown",
      "metadata": {
        "id": "b3Rtkbnbjo33"
      },
      "source": [
        "### (4) Drop the New Influential Points"
      ]
    },
    {
      "cell_type": "code",
      "metadata": {
        "id": "fVDqf9f0ibZ4"
      },
      "source": [
        "df_droppoints['logcharges'] = charges_log"
      ],
      "execution_count": null,
      "outputs": []
    },
    {
      "cell_type": "code",
      "metadata": {
        "colab": {
          "base_uri": "https://localhost:8080/",
          "height": 266
        },
        "id": "Hnw5ntkzkD0H",
        "outputId": "5d5bdfb6-b69d-4ebb-c0fe-c69067e3d3e1"
      },
      "source": [
        "infl = model_log.get_influence()\n",
        "ex_studti = infl.resid_studentized_external\n",
        "\n",
        "n = len(ex_studti)\n",
        "k = model_log.df_model + 1\n",
        "\n",
        "seuil_stud = scipy.stats.t.ppf(0.975, df=n-k-1)\n",
        "atyp_stud = np.abs(ex_studti) >= seuil_stud\n",
        "\n",
        "ex_studenti = pd.DataFrame()\n",
        "ex_studenti['Index of Position'] = df_droppoints.index[atyp_stud]\n",
        "ex_studenti['External Studendized Residual'] = ex_studti[atyp_stud]\n",
        "ex_studenti['Original Residuals'] = list(model_log.resid[atyp_stud])\n",
        "ex_studenti"
      ],
      "execution_count": null,
      "outputs": [
        {
          "output_type": "execute_result",
          "data": {
            "text/html": [
              "<div>\n",
              "<style scoped>\n",
              "    .dataframe tbody tr th:only-of-type {\n",
              "        vertical-align: middle;\n",
              "    }\n",
              "\n",
              "    .dataframe tbody tr th {\n",
              "        vertical-align: top;\n",
              "    }\n",
              "\n",
              "    .dataframe thead th {\n",
              "        text-align: right;\n",
              "    }\n",
              "</style>\n",
              "<table border=\"1\" class=\"dataframe\">\n",
              "  <thead>\n",
              "    <tr style=\"text-align: right;\">\n",
              "      <th></th>\n",
              "      <th>Index of Position</th>\n",
              "      <th>External Studendized Residual</th>\n",
              "      <th>Original Residuals</th>\n",
              "    </tr>\n",
              "  </thead>\n",
              "  <tbody>\n",
              "    <tr>\n",
              "      <th>0</th>\n",
              "      <td>175</td>\n",
              "      <td>-2.453176</td>\n",
              "      <td>-2.371725</td>\n",
              "    </tr>\n",
              "    <tr>\n",
              "      <th>1</th>\n",
              "      <td>281</td>\n",
              "      <td>-1.997374</td>\n",
              "      <td>-1.931932</td>\n",
              "    </tr>\n",
              "    <tr>\n",
              "      <th>2</th>\n",
              "      <td>330</td>\n",
              "      <td>-2.081829</td>\n",
              "      <td>-2.015255</td>\n",
              "    </tr>\n",
              "    <tr>\n",
              "      <th>3</th>\n",
              "      <td>530</td>\n",
              "      <td>-2.074667</td>\n",
              "      <td>-2.009964</td>\n",
              "    </tr>\n",
              "    <tr>\n",
              "      <th>4</th>\n",
              "      <td>901</td>\n",
              "      <td>-2.094377</td>\n",
              "      <td>-2.028163</td>\n",
              "    </tr>\n",
              "    <tr>\n",
              "      <th>5</th>\n",
              "      <td>1062</td>\n",
              "      <td>-2.478469</td>\n",
              "      <td>-2.399432</td>\n",
              "    </tr>\n",
              "    <tr>\n",
              "      <th>6</th>\n",
              "      <td>1241</td>\n",
              "      <td>-92.847701</td>\n",
              "      <td>-31.800547</td>\n",
              "    </tr>\n",
              "  </tbody>\n",
              "</table>\n",
              "</div>"
            ],
            "text/plain": [
              "   Index of Position  External Studendized Residual  Original Residuals\n",
              "0                175                      -2.453176           -2.371725\n",
              "1                281                      -1.997374           -1.931932\n",
              "2                330                      -2.081829           -2.015255\n",
              "3                530                      -2.074667           -2.009964\n",
              "4                901                      -2.094377           -2.028163\n",
              "5               1062                      -2.478469           -2.399432\n",
              "6               1241                     -92.847701          -31.800547"
            ]
          },
          "metadata": {
            "tags": []
          },
          "execution_count": 19
        }
      ]
    },
    {
      "cell_type": "code",
      "metadata": {
        "colab": {
          "base_uri": "https://localhost:8080/",
          "height": 328
        },
        "id": "cxo6_YiGkLW7",
        "outputId": "6bd69af5-db55-468b-e245-3802a8a10707"
      },
      "source": [
        "infl = model_log.get_influence()\n",
        "inflsum = infl.summary_frame()\n",
        "\n",
        "reg_cook = inflsum.cooks_d\n",
        "atyp_cook = np.abs(reg_cook) >= 4/n\n",
        "\n",
        "cooki = pd.DataFrame()\n",
        "cooki['Index of Position'] = df_droppoints.index[atyp_cook]\n",
        "cooki['Cook\\'s Distance'] = list(reg_cook[atyp_cook])\n",
        "cooki"
      ],
      "execution_count": null,
      "outputs": [
        {
          "output_type": "execute_result",
          "data": {
            "text/html": [
              "<div>\n",
              "<style scoped>\n",
              "    .dataframe tbody tr th:only-of-type {\n",
              "        vertical-align: middle;\n",
              "    }\n",
              "\n",
              "    .dataframe tbody tr th {\n",
              "        vertical-align: top;\n",
              "    }\n",
              "\n",
              "    .dataframe thead th {\n",
              "        text-align: right;\n",
              "    }\n",
              "</style>\n",
              "<table border=\"1\" class=\"dataframe\">\n",
              "  <thead>\n",
              "    <tr style=\"text-align: right;\">\n",
              "      <th></th>\n",
              "      <th>Index of Position</th>\n",
              "      <th>Cook's Distance</th>\n",
              "    </tr>\n",
              "  </thead>\n",
              "  <tbody>\n",
              "    <tr>\n",
              "      <th>0</th>\n",
              "      <td>39</td>\n",
              "      <td>0.004029</td>\n",
              "    </tr>\n",
              "    <tr>\n",
              "      <th>1</th>\n",
              "      <td>175</td>\n",
              "      <td>0.008111</td>\n",
              "    </tr>\n",
              "    <tr>\n",
              "      <th>2</th>\n",
              "      <td>281</td>\n",
              "      <td>0.005717</td>\n",
              "    </tr>\n",
              "    <tr>\n",
              "      <th>3</th>\n",
              "      <td>328</td>\n",
              "      <td>0.003334</td>\n",
              "    </tr>\n",
              "    <tr>\n",
              "      <th>4</th>\n",
              "      <td>330</td>\n",
              "      <td>0.005285</td>\n",
              "    </tr>\n",
              "    <tr>\n",
              "      <th>5</th>\n",
              "      <td>530</td>\n",
              "      <td>0.004472</td>\n",
              "    </tr>\n",
              "    <tr>\n",
              "      <th>6</th>\n",
              "      <td>901</td>\n",
              "      <td>0.004958</td>\n",
              "    </tr>\n",
              "    <tr>\n",
              "      <th>7</th>\n",
              "      <td>1062</td>\n",
              "      <td>0.006344</td>\n",
              "    </tr>\n",
              "    <tr>\n",
              "      <th>8</th>\n",
              "      <td>1241</td>\n",
              "      <td>1.170899</td>\n",
              "    </tr>\n",
              "  </tbody>\n",
              "</table>\n",
              "</div>"
            ],
            "text/plain": [
              "   Index of Position  Cook's Distance\n",
              "0                 39         0.004029\n",
              "1                175         0.008111\n",
              "2                281         0.005717\n",
              "3                328         0.003334\n",
              "4                330         0.005285\n",
              "5                530         0.004472\n",
              "6                901         0.004958\n",
              "7               1062         0.006344\n",
              "8               1241         1.170899"
            ]
          },
          "metadata": {
            "tags": []
          },
          "execution_count": 20
        }
      ]
    },
    {
      "cell_type": "code",
      "metadata": {
        "colab": {
          "base_uri": "https://localhost:8080/",
          "height": 204
        },
        "id": "QuwaYL2NkgZM",
        "outputId": "27b5a268-9187-4a36-b994-a50b877fdf2d"
      },
      "source": [
        "df_log = df_droppoints\n",
        "influencial_points = set(ex_studenti['Index of Position']).union(set(cooki['Index of Position']))\n",
        "\n",
        "for i in influencial_points:\n",
        "    df_log = df_log.drop(index=i, axis=1)\n",
        "    \n",
        "df_log.head()"
      ],
      "execution_count": null,
      "outputs": [
        {
          "output_type": "execute_result",
          "data": {
            "text/html": [
              "<div>\n",
              "<style scoped>\n",
              "    .dataframe tbody tr th:only-of-type {\n",
              "        vertical-align: middle;\n",
              "    }\n",
              "\n",
              "    .dataframe tbody tr th {\n",
              "        vertical-align: top;\n",
              "    }\n",
              "\n",
              "    .dataframe thead th {\n",
              "        text-align: right;\n",
              "    }\n",
              "</style>\n",
              "<table border=\"1\" class=\"dataframe\">\n",
              "  <thead>\n",
              "    <tr style=\"text-align: right;\">\n",
              "      <th></th>\n",
              "      <th>age</th>\n",
              "      <th>sex</th>\n",
              "      <th>bmi</th>\n",
              "      <th>children</th>\n",
              "      <th>smoker</th>\n",
              "      <th>region</th>\n",
              "      <th>charges</th>\n",
              "      <th>logcharges</th>\n",
              "    </tr>\n",
              "  </thead>\n",
              "  <tbody>\n",
              "    <tr>\n",
              "      <th>0</th>\n",
              "      <td>19</td>\n",
              "      <td>female</td>\n",
              "      <td>27.90</td>\n",
              "      <td>0</td>\n",
              "      <td>yes</td>\n",
              "      <td>southwest</td>\n",
              "      <td>16884.9240</td>\n",
              "      <td>10.394908</td>\n",
              "    </tr>\n",
              "    <tr>\n",
              "      <th>1</th>\n",
              "      <td>18</td>\n",
              "      <td>male</td>\n",
              "      <td>33.77</td>\n",
              "      <td>1</td>\n",
              "      <td>no</td>\n",
              "      <td>southeast</td>\n",
              "      <td>1725.5523</td>\n",
              "      <td>10.775870</td>\n",
              "    </tr>\n",
              "    <tr>\n",
              "      <th>2</th>\n",
              "      <td>28</td>\n",
              "      <td>male</td>\n",
              "      <td>33.00</td>\n",
              "      <td>3</td>\n",
              "      <td>no</td>\n",
              "      <td>southeast</td>\n",
              "      <td>4449.4620</td>\n",
              "      <td>10.717263</td>\n",
              "    </tr>\n",
              "    <tr>\n",
              "      <th>4</th>\n",
              "      <td>32</td>\n",
              "      <td>male</td>\n",
              "      <td>28.88</td>\n",
              "      <td>0</td>\n",
              "      <td>no</td>\n",
              "      <td>northwest</td>\n",
              "      <td>3866.8552</td>\n",
              "      <td>10.730090</td>\n",
              "    </tr>\n",
              "    <tr>\n",
              "      <th>5</th>\n",
              "      <td>31</td>\n",
              "      <td>female</td>\n",
              "      <td>25.74</td>\n",
              "      <td>0</td>\n",
              "      <td>no</td>\n",
              "      <td>southeast</td>\n",
              "      <td>3756.6216</td>\n",
              "      <td>10.732499</td>\n",
              "    </tr>\n",
              "  </tbody>\n",
              "</table>\n",
              "</div>"
            ],
            "text/plain": [
              "   age     sex    bmi  children smoker     region     charges  logcharges\n",
              "0   19  female  27.90         0    yes  southwest  16884.9240   10.394908\n",
              "1   18    male  33.77         1     no  southeast   1725.5523   10.775870\n",
              "2   28    male  33.00         3     no  southeast   4449.4620   10.717263\n",
              "4   32    male  28.88         0     no  northwest   3866.8552   10.730090\n",
              "5   31  female  25.74         0     no  southeast   3756.6216   10.732499"
            ]
          },
          "metadata": {
            "tags": []
          },
          "execution_count": 21
        }
      ]
    },
    {
      "cell_type": "markdown",
      "metadata": {
        "id": "Y0ck9pOhlLBg"
      },
      "source": [
        "### (5) Again, fit in the model"
      ]
    },
    {
      "cell_type": "code",
      "metadata": {
        "colab": {
          "base_uri": "https://localhost:8080/",
          "height": 591
        },
        "id": "3w8eqqyWk1Xy",
        "outputId": "463a323f-6f6d-42e8-c500-349e37826603"
      },
      "source": [
        "model_log = smf.ols('logcharges ~ age + bmi + children + sex + smoker + region', data=df_log).fit()\n",
        "model_log.summary()"
      ],
      "execution_count": null,
      "outputs": [
        {
          "output_type": "execute_result",
          "data": {
            "text/html": [
              "<table class=\"simpletable\">\n",
              "<caption>OLS Regression Results</caption>\n",
              "<tr>\n",
              "  <th>Dep. Variable:</th>       <td>logcharges</td>    <th>  R-squared:         </th> <td>   0.707</td> \n",
              "</tr>\n",
              "<tr>\n",
              "  <th>Model:</th>                   <td>OLS</td>       <th>  Adj. R-squared:    </th> <td>   0.705</td> \n",
              "</tr>\n",
              "<tr>\n",
              "  <th>Method:</th>             <td>Least Squares</td>  <th>  F-statistic:       </th> <td>   367.4</td> \n",
              "</tr>\n",
              "<tr>\n",
              "  <th>Date:</th>             <td>Sun, 29 Nov 2020</td> <th>  Prob (F-statistic):</th> <td>2.08e-318</td>\n",
              "</tr>\n",
              "<tr>\n",
              "  <th>Time:</th>                 <td>15:18:24</td>     <th>  Log-Likelihood:    </th> <td> -218.91</td> \n",
              "</tr>\n",
              "<tr>\n",
              "  <th>No. Observations:</th>      <td>  1228</td>      <th>  AIC:               </th> <td>   455.8</td> \n",
              "</tr>\n",
              "<tr>\n",
              "  <th>Df Residuals:</th>          <td>  1219</td>      <th>  BIC:               </th> <td>   501.8</td> \n",
              "</tr>\n",
              "<tr>\n",
              "  <th>Df Model:</th>              <td>     8</td>      <th>                     </th>     <td> </td>    \n",
              "</tr>\n",
              "<tr>\n",
              "  <th>Covariance Type:</th>      <td>nonrobust</td>    <th>                     </th>     <td> </td>    \n",
              "</tr>\n",
              "</table>\n",
              "<table class=\"simpletable\">\n",
              "<tr>\n",
              "           <td></td>              <th>coef</th>     <th>std err</th>      <th>t</th>      <th>P>|t|</th>  <th>[0.025</th>    <th>0.975]</th>  \n",
              "</tr>\n",
              "<tr>\n",
              "  <th>Intercept</th>           <td>   11.4754</td> <td>    0.051</td> <td>  226.719</td> <td> 0.000</td> <td>   11.376</td> <td>   11.575</td>\n",
              "</tr>\n",
              "<tr>\n",
              "  <th>sex[T.male]</th>         <td>   -0.0060</td> <td>    0.017</td> <td>   -0.358</td> <td> 0.721</td> <td>   -0.039</td> <td>    0.027</td>\n",
              "</tr>\n",
              "<tr>\n",
              "  <th>smoker[T.yes]</th>       <td>   -1.0808</td> <td>    0.021</td> <td>  -50.553</td> <td> 0.000</td> <td>   -1.123</td> <td>   -1.039</td>\n",
              "</tr>\n",
              "<tr>\n",
              "  <th>region[T.northwest]</th> <td>    0.0263</td> <td>    0.024</td> <td>    1.101</td> <td> 0.271</td> <td>   -0.021</td> <td>    0.073</td>\n",
              "</tr>\n",
              "<tr>\n",
              "  <th>region[T.southeast]</th> <td>    0.0251</td> <td>    0.024</td> <td>    1.044</td> <td> 0.297</td> <td>   -0.022</td> <td>    0.072</td>\n",
              "</tr>\n",
              "<tr>\n",
              "  <th>region[T.southwest]</th> <td>    0.0374</td> <td>    0.024</td> <td>    1.569</td> <td> 0.117</td> <td>   -0.009</td> <td>    0.084</td>\n",
              "</tr>\n",
              "<tr>\n",
              "  <th>age</th>                 <td>   -0.0084</td> <td>    0.001</td> <td>  -14.073</td> <td> 0.000</td> <td>   -0.010</td> <td>   -0.007</td>\n",
              "</tr>\n",
              "<tr>\n",
              "  <th>bmi</th>                 <td>   -0.0161</td> <td>    0.001</td> <td>  -10.956</td> <td> 0.000</td> <td>   -0.019</td> <td>   -0.013</td>\n",
              "</tr>\n",
              "<tr>\n",
              "  <th>children</th>            <td>   -0.0232</td> <td>    0.007</td> <td>   -3.366</td> <td> 0.001</td> <td>   -0.037</td> <td>   -0.010</td>\n",
              "</tr>\n",
              "</table>\n",
              "<table class=\"simpletable\">\n",
              "<tr>\n",
              "  <th>Omnibus:</th>       <td>452.375</td> <th>  Durbin-Watson:     </th> <td>   1.929</td>\n",
              "</tr>\n",
              "<tr>\n",
              "  <th>Prob(Omnibus):</th> <td> 0.000</td>  <th>  Jarque-Bera (JB):  </th> <td>4429.184</td>\n",
              "</tr>\n",
              "<tr>\n",
              "  <th>Skew:</th>          <td>-1.418</td>  <th>  Prob(JB):          </th> <td>    0.00</td>\n",
              "</tr>\n",
              "<tr>\n",
              "  <th>Kurtosis:</th>      <td>11.861</td>  <th>  Cond. No.          </th> <td>    319.</td>\n",
              "</tr>\n",
              "</table><br/><br/>Warnings:<br/>[1] Standard Errors assume that the covariance matrix of the errors is correctly specified."
            ],
            "text/plain": [
              "<class 'statsmodels.iolib.summary.Summary'>\n",
              "\"\"\"\n",
              "                            OLS Regression Results                            \n",
              "==============================================================================\n",
              "Dep. Variable:             logcharges   R-squared:                       0.707\n",
              "Model:                            OLS   Adj. R-squared:                  0.705\n",
              "Method:                 Least Squares   F-statistic:                     367.4\n",
              "Date:                Sun, 29 Nov 2020   Prob (F-statistic):          2.08e-318\n",
              "Time:                        15:18:24   Log-Likelihood:                -218.91\n",
              "No. Observations:                1228   AIC:                             455.8\n",
              "Df Residuals:                    1219   BIC:                             501.8\n",
              "Df Model:                           8                                         \n",
              "Covariance Type:            nonrobust                                         \n",
              "=======================================================================================\n",
              "                          coef    std err          t      P>|t|      [0.025      0.975]\n",
              "---------------------------------------------------------------------------------------\n",
              "Intercept              11.4754      0.051    226.719      0.000      11.376      11.575\n",
              "sex[T.male]            -0.0060      0.017     -0.358      0.721      -0.039       0.027\n",
              "smoker[T.yes]          -1.0808      0.021    -50.553      0.000      -1.123      -1.039\n",
              "region[T.northwest]     0.0263      0.024      1.101      0.271      -0.021       0.073\n",
              "region[T.southeast]     0.0251      0.024      1.044      0.297      -0.022       0.072\n",
              "region[T.southwest]     0.0374      0.024      1.569      0.117      -0.009       0.084\n",
              "age                    -0.0084      0.001    -14.073      0.000      -0.010      -0.007\n",
              "bmi                    -0.0161      0.001    -10.956      0.000      -0.019      -0.013\n",
              "children               -0.0232      0.007     -3.366      0.001      -0.037      -0.010\n",
              "==============================================================================\n",
              "Omnibus:                      452.375   Durbin-Watson:                   1.929\n",
              "Prob(Omnibus):                  0.000   Jarque-Bera (JB):             4429.184\n",
              "Skew:                          -1.418   Prob(JB):                         0.00\n",
              "Kurtosis:                      11.861   Cond. No.                         319.\n",
              "==============================================================================\n",
              "\n",
              "Warnings:\n",
              "[1] Standard Errors assume that the covariance matrix of the errors is correctly specified.\n",
              "\"\"\""
            ]
          },
          "metadata": {
            "tags": []
          },
          "execution_count": 22
        }
      ]
    },
    {
      "cell_type": "code",
      "metadata": {
        "colab": {
          "base_uri": "https://localhost:8080/",
          "height": 294
        },
        "id": "aCwpXef5lWPE",
        "outputId": "d4375513-5cac-4bb7-f0fb-e40394ed30a0"
      },
      "source": [
        "fittedvals = model_log.fittedvalues\n",
        "residuals = model_log.resid\n",
        "\n",
        "fig, ax = plt.subplots(figsize=(6,4))\n",
        "ax.scatter(fittedvals, residuals, alpha=0.4, edgecolors='none')\n",
        "ax.hlines(0, xmin=min(fittedvals), xmax=max(fittedvals), colors='r', alpha=0.4)\n",
        "plt.xlabel(\"Fitted Values\")\n",
        "plt.ylabel(\"Residuals\")\n",
        "plt.title(\"Fitted Values vs. Residuals\")\n",
        "plt.show()"
      ],
      "execution_count": null,
      "outputs": [
        {
          "output_type": "display_data",
          "data": {
            "image/png": "[encoded data removed]",
            "text/plain": [
              "<Figure size 432x288 with 1 Axes>"
            ]
          },
          "metadata": {
            "tags": [],
            "image/png": {
              "width": 394,
              "height": 277
            },
            "needs_background": "light"
          }
        }
      ]
    },
    {
      "cell_type": "code",
      "metadata": {
        "colab": {
          "base_uri": "https://localhost:8080/"
        },
        "id": "jV895xUMmbXI",
        "outputId": "1fd2486c-d24b-4ef2-a7ee-f0c0d3fb798a"
      },
      "source": [
        "bp_test = het_breuschpagan(model_log.resid, model_log.model.exog)\n",
        "labels = ['BP Statistic', 'BP-Test p-value']\n",
        "bp_result = dict(zip(labels, bp_test))\n",
        "if bp_result['BP-Test p-value'] < 0.05:\n",
        "    print('Reject H0, there’s a significant heteroscedasticity problem at the 95% confidence level.')\n",
        "else:\n",
        "    print('Can\\'t reject H0, there’s no significant heteroscedasticity problem at the 95% confidence level.')"
      ],
      "execution_count": null,
      "outputs": [
        {
          "output_type": "stream",
          "text": [
            "Reject H0, there’s a significant heteroscedasticity problem at the 95% confidence level.\n"
          ],
          "name": "stdout"
        }
      ]
    },
    {
      "cell_type": "markdown",
      "metadata": {
        "id": "fbQqSbjj8sVA"
      },
      "source": [
        "## 5. Check Normality"
      ]
    },
    {
      "cell_type": "markdown",
      "metadata": {
        "id": "tMXffd_w-Kmb"
      },
      "source": [
        "### (1) Histogram Plot"
      ]
    },
    {
      "cell_type": "code",
      "metadata": {
        "colab": {
          "base_uri": "https://localhost:8080/",
          "height": 265
        },
        "id": "MkrbxFNemk6R",
        "outputId": "1c86fa37-1a93-4625-c0a5-f70d6ab95f72"
      },
      "source": [
        "s = stats.skew(model_log.resid)\n",
        "k = stats.kurtosis(model_log.resid)\n",
        "plt.hist(model_log.resid, bins=50)\n",
        "plt.show()"
      ],
      "execution_count": null,
      "outputs": [
        {
          "output_type": "display_data",
          "data": {
            "image/png": "[encoded data removed]",
            "text/plain": [
              "<Figure size 432x288 with 1 Axes>"
            ]
          },
          "metadata": {
            "tags": [],
            "image/png": {
              "width": 375,
              "height": 248
            },
            "needs_background": "light"
          }
        }
      ]
    },
    {
      "cell_type": "markdown",
      "metadata": {
        "id": "_nAIT5CX-mbk"
      },
      "source": [
        "### (2) QQ Plot"
      ]
    },
    {
      "cell_type": "code",
      "metadata": {
        "colab": {
          "base_uri": "https://localhost:8080/",
          "height": 278
        },
        "id": "1ZIQgSjwmqie",
        "outputId": "e49526a7-5f78-44d4-efe7-b3b7e753c60e"
      },
      "source": [
        "fig = sm.qqplot(model_log.resid)"
      ],
      "execution_count": null,
      "outputs": [
        {
          "output_type": "display_data",
          "data": {
            "image/png": "[encoded data removed]",
            "text/plain": [
              "<Figure size 432x288 with 1 Axes>"
            ]
          },
          "metadata": {
            "tags": [],
            "image/png": {
              "width": 394,
              "height": 261
            },
            "needs_background": "light"
          }
        }
      ]
    },
    {
      "cell_type": "markdown",
      "metadata": {
        "id": "tmNRPRyf-tPn"
      },
      "source": [
        "### (3) K-Square Test"
      ]
    },
    {
      "cell_type": "code",
      "metadata": {
        "colab": {
          "base_uri": "https://localhost:8080/"
        },
        "id": "-8mAEVSu-ojA",
        "outputId": "169e849f-fc32-4085-d8e5-4f95375068b3"
      },
      "source": [
        "KstestResult = kstest(model_log.resid,'norm')\n",
        "if KstestResult[1] < 0.05:\n",
        "    print('Reject H0, the model is not normality at 95% confidence level.')\n",
        "else:\n",
        "    print('Can\\'t reject H0, the model is normality at 95% confidence level.')"
      ],
      "execution_count": null,
      "outputs": [
        {
          "output_type": "stream",
          "text": [
            "Reject H0, the model is not normality at 95% confidence level.\n"
          ],
          "name": "stdout"
        }
      ]
    },
    {
      "cell_type": "markdown",
      "metadata": {
        "id": "4WsWKRbW-wI5"
      },
      "source": [
        "### (4) JB Test"
      ]
    },
    {
      "cell_type": "code",
      "metadata": {
        "colab": {
          "base_uri": "https://localhost:8080/"
        },
        "id": "lgnJrYMO-vXh",
        "outputId": "db398a16-8eb9-4f66-fadc-3667db0154f0"
      },
      "source": [
        "if stats.jarque_bera(model_log.resid)[1] < 0.05:\n",
        "    print('Reject H0, the model is not normality at 95% confidence level.')\n",
        "else:\n",
        "    print('Can\\'t reject H0, the model is normality at 95% confidence level.')"
      ],
      "execution_count": null,
      "outputs": [
        {
          "output_type": "stream",
          "text": [
            "Reject H0, the model is not normality at 95% confidence level.\n"
          ],
          "name": "stdout"
        }
      ]
    },
    {
      "cell_type": "markdown",
      "metadata": {
        "id": "UJ3GwWHd-1Nn"
      },
      "source": [
        "### (5) Box-Cox Transformation"
      ]
    },
    {
      "cell_type": "code",
      "metadata": {
        "colab": {
          "base_uri": "https://localhost:8080/",
          "height": 591
        },
        "id": "EZCllEnV-y3x",
        "outputId": "0a02d0bd-4ce4-450d-f6b9-4f7996d3997c"
      },
      "source": [
        "fitted_charges, fitted_lambda = boxcox(df_log['logcharges'])\n",
        "df_boxcox = df_log\n",
        "df_boxcox['fitted_charges'] = fitted_charges\n",
        "model_boxcox = smf.ols('fitted_charges ~ age + bmi + children + sex + smoker + region', data=df_boxcox).fit()\n",
        "model_boxcox.summary()"
      ],
      "execution_count": null,
      "outputs": [
        {
          "output_type": "execute_result",
          "data": {
            "text/html": [
              "<table class=\"simpletable\">\n",
              "<caption>OLS Regression Results</caption>\n",
              "<tr>\n",
              "  <th>Dep. Variable:</th>     <td>fitted_charges</td>  <th>  R-squared:         </th> <td>   0.896</td> \n",
              "</tr>\n",
              "<tr>\n",
              "  <th>Model:</th>                   <td>OLS</td>       <th>  Adj. R-squared:    </th> <td>   0.895</td> \n",
              "</tr>\n",
              "<tr>\n",
              "  <th>Method:</th>             <td>Least Squares</td>  <th>  F-statistic:       </th> <td>   1311.</td> \n",
              "</tr>\n",
              "<tr>\n",
              "  <th>Date:</th>             <td>Sun, 29 Nov 2020</td> <th>  Prob (F-statistic):</th>  <td>  0.00</td>  \n",
              "</tr>\n",
              "<tr>\n",
              "  <th>Time:</th>                 <td>17:12:54</td>     <th>  Log-Likelihood:    </th> <td> -71110.</td> \n",
              "</tr>\n",
              "<tr>\n",
              "  <th>No. Observations:</th>      <td>  1228</td>      <th>  AIC:               </th> <td>1.422e+05</td>\n",
              "</tr>\n",
              "<tr>\n",
              "  <th>Df Residuals:</th>          <td>  1219</td>      <th>  BIC:               </th> <td>1.423e+05</td>\n",
              "</tr>\n",
              "<tr>\n",
              "  <th>Df Model:</th>              <td>     8</td>      <th>                     </th>     <td> </td>    \n",
              "</tr>\n",
              "<tr>\n",
              "  <th>Covariance Type:</th>      <td>nonrobust</td>    <th>                     </th>     <td> </td>    \n",
              "</tr>\n",
              "</table>\n",
              "<table class=\"simpletable\">\n",
              "<tr>\n",
              "           <td></td>              <th>coef</th>     <th>std err</th>      <th>t</th>      <th>P>|t|</th>  <th>[0.025</th>    <th>0.975]</th>  \n",
              "</tr>\n",
              "<tr>\n",
              "  <th>Intercept</th>           <td> 4.526e+25</td> <td> 5.96e+23</td> <td>   75.909</td> <td> 0.000</td> <td> 4.41e+25</td> <td> 4.64e+25</td>\n",
              "</tr>\n",
              "<tr>\n",
              "  <th>sex[T.male]</th>         <td> 4.743e+23</td> <td> 1.96e+23</td> <td>    2.417</td> <td> 0.016</td> <td> 8.93e+22</td> <td> 8.59e+23</td>\n",
              "</tr>\n",
              "<tr>\n",
              "  <th>smoker[T.yes]</th>       <td>-2.261e+25</td> <td> 2.52e+23</td> <td>  -89.758</td> <td> 0.000</td> <td>-2.31e+25</td> <td>-2.21e+25</td>\n",
              "</tr>\n",
              "<tr>\n",
              "  <th>region[T.northwest]</th> <td> 1.098e+24</td> <td> 2.82e+23</td> <td>    3.901</td> <td> 0.000</td> <td> 5.46e+23</td> <td> 1.65e+24</td>\n",
              "</tr>\n",
              "<tr>\n",
              "  <th>region[T.southeast]</th> <td>  1.34e+24</td> <td> 2.84e+23</td> <td>    4.724</td> <td> 0.000</td> <td> 7.83e+23</td> <td>  1.9e+24</td>\n",
              "</tr>\n",
              "<tr>\n",
              "  <th>region[T.southwest]</th> <td> 1.085e+24</td> <td> 2.81e+23</td> <td>    3.861</td> <td> 0.000</td> <td> 5.33e+23</td> <td> 1.64e+24</td>\n",
              "</tr>\n",
              "<tr>\n",
              "  <th>age</th>                 <td>-3.401e+23</td> <td> 7.04e+21</td> <td>  -48.337</td> <td> 0.000</td> <td>-3.54e+23</td> <td>-3.26e+23</td>\n",
              "</tr>\n",
              "<tr>\n",
              "  <th>bmi</th>                 <td>-1.746e+23</td> <td> 1.73e+22</td> <td>  -10.086</td> <td> 0.000</td> <td>-2.09e+23</td> <td>-1.41e+23</td>\n",
              "</tr>\n",
              "<tr>\n",
              "  <th>children</th>            <td>-6.334e+23</td> <td> 8.13e+22</td> <td>   -7.788</td> <td> 0.000</td> <td>-7.93e+23</td> <td>-4.74e+23</td>\n",
              "</tr>\n",
              "</table>\n",
              "<table class=\"simpletable\">\n",
              "<tr>\n",
              "  <th>Omnibus:</th>       <td>461.734</td> <th>  Durbin-Watson:     </th> <td>   2.045</td>\n",
              "</tr>\n",
              "<tr>\n",
              "  <th>Prob(Omnibus):</th> <td> 0.000</td>  <th>  Jarque-Bera (JB):  </th> <td>2062.225</td>\n",
              "</tr>\n",
              "<tr>\n",
              "  <th>Skew:</th>          <td>-1.737</td>  <th>  Prob(JB):          </th> <td>    0.00</td>\n",
              "</tr>\n",
              "<tr>\n",
              "  <th>Kurtosis:</th>      <td> 8.314</td>  <th>  Cond. No.          </th> <td>    319.</td>\n",
              "</tr>\n",
              "</table><br/><br/>Warnings:<br/>[1] Standard Errors assume that the covariance matrix of the errors is correctly specified."
            ],
            "text/plain": [
              "<class 'statsmodels.iolib.summary.Summary'>\n",
              "\"\"\"\n",
              "                            OLS Regression Results                            \n",
              "==============================================================================\n",
              "Dep. Variable:         fitted_charges   R-squared:                       0.896\n",
              "Model:                            OLS   Adj. R-squared:                  0.895\n",
              "Method:                 Least Squares   F-statistic:                     1311.\n",
              "Date:                Sun, 29 Nov 2020   Prob (F-statistic):               0.00\n",
              "Time:                        17:12:54   Log-Likelihood:                -71110.\n",
              "No. Observations:                1228   AIC:                         1.422e+05\n",
              "Df Residuals:                    1219   BIC:                         1.423e+05\n",
              "Df Model:                           8                                         \n",
              "Covariance Type:            nonrobust                                         \n",
              "=======================================================================================\n",
              "                          coef    std err          t      P>|t|      [0.025      0.975]\n",
              "---------------------------------------------------------------------------------------\n",
              "Intercept            4.526e+25   5.96e+23     75.909      0.000    4.41e+25    4.64e+25\n",
              "sex[T.male]          4.743e+23   1.96e+23      2.417      0.016    8.93e+22    8.59e+23\n",
              "smoker[T.yes]       -2.261e+25   2.52e+23    -89.758      0.000   -2.31e+25   -2.21e+25\n",
              "region[T.northwest]  1.098e+24   2.82e+23      3.901      0.000    5.46e+23    1.65e+24\n",
              "region[T.southeast]   1.34e+24   2.84e+23      4.724      0.000    7.83e+23     1.9e+24\n",
              "region[T.southwest]  1.085e+24   2.81e+23      3.861      0.000    5.33e+23    1.64e+24\n",
              "age                 -3.401e+23   7.04e+21    -48.337      0.000   -3.54e+23   -3.26e+23\n",
              "bmi                 -1.746e+23   1.73e+22    -10.086      0.000   -2.09e+23   -1.41e+23\n",
              "children            -6.334e+23   8.13e+22     -7.788      0.000   -7.93e+23   -4.74e+23\n",
              "==============================================================================\n",
              "Omnibus:                      461.734   Durbin-Watson:                   2.045\n",
              "Prob(Omnibus):                  0.000   Jarque-Bera (JB):             2062.225\n",
              "Skew:                          -1.737   Prob(JB):                         0.00\n",
              "Kurtosis:                       8.314   Cond. No.                         319.\n",
              "==============================================================================\n",
              "\n",
              "Warnings:\n",
              "[1] Standard Errors assume that the covariance matrix of the errors is correctly specified.\n",
              "\"\"\""
            ]
          },
          "metadata": {
            "tags": []
          },
          "execution_count": 34
        }
      ]
    },
    {
      "cell_type": "code",
      "metadata": {
        "colab": {
          "base_uri": "https://localhost:8080/",
          "height": 289
        },
        "id": "kBkl37Kd_-PV",
        "outputId": "33199f44-9ece-40de-ce5b-441896cf190a"
      },
      "source": [
        "fig = sm.qqplot(model_boxcox.resid)"
      ],
      "execution_count": null,
      "outputs": [
        {
          "output_type": "display_data",
          "data": {
            "image/png": "[encoded data removed]",
            "text/plain": [
              "<Figure size 432x288 with 1 Axes>"
            ]
          },
          "metadata": {
            "tags": [],
            "image/png": {
              "width": 394,
              "height": 272
            },
            "needs_background": "light"
          }
        }
      ]
    },
    {
      "cell_type": "markdown",
      "metadata": {
        "id": "5uCpurcL_5om"
      },
      "source": [
        "## 6. Check Linearity"
      ]
    },
    {
      "cell_type": "code",
      "metadata": {
        "colab": {
          "base_uri": "https://localhost:8080/",
          "height": 343
        },
        "id": "UzgIe278-8qN",
        "outputId": "d178a9a6-915b-4106-d5d0-74ba2eab8d6f"
      },
      "source": [
        "fig, ax = plt.subplots(figsize=(5,5))\n",
        "ax.scatter(fitted_charges, model_boxcox.predict(), alpha=.4)\n",
        "ax.set_xlabel('Boxcoxed log charges')\n",
        "ax.set_ylabel('Fitted charges')\n",
        "plt.show()"
      ],
      "execution_count": null,
      "outputs": [
        {
          "output_type": "display_data",
          "data": {
            "image/png": "[encoded data removed]",
            "text/plain": [
              "<Figure size 360x360 with 1 Axes>"
            ]
          },
          "metadata": {
            "tags": [],
            "image/png": {
              "width": 320,
              "height": 326
            },
            "needs_background": "light"
          }
        }
      ]
    },
    {
      "cell_type": "code",
      "metadata": {
        "colab": {
          "base_uri": "https://localhost:8080/",
          "height": 204
        },
        "id": "IrVwCMnsDBgj",
        "outputId": "0f496e03-1e89-47e6-f42f-df18d45dc6dc"
      },
      "source": [
        "df_boxcox.head()"
      ],
      "execution_count": null,
      "outputs": [
        {
          "output_type": "execute_result",
          "data": {
            "text/html": [
              "<div>\n",
              "<style scoped>\n",
              "    .dataframe tbody tr th:only-of-type {\n",
              "        vertical-align: middle;\n",
              "    }\n",
              "\n",
              "    .dataframe tbody tr th {\n",
              "        vertical-align: top;\n",
              "    }\n",
              "\n",
              "    .dataframe thead th {\n",
              "        text-align: right;\n",
              "    }\n",
              "</style>\n",
              "<table border=\"1\" class=\"dataframe\">\n",
              "  <thead>\n",
              "    <tr style=\"text-align: right;\">\n",
              "      <th></th>\n",
              "      <th>age</th>\n",
              "      <th>sex</th>\n",
              "      <th>bmi</th>\n",
              "      <th>children</th>\n",
              "      <th>smoker</th>\n",
              "      <th>region</th>\n",
              "      <th>charges</th>\n",
              "      <th>logcharges</th>\n",
              "      <th>fitted_charges</th>\n",
              "    </tr>\n",
              "  </thead>\n",
              "  <tbody>\n",
              "    <tr>\n",
              "      <th>0</th>\n",
              "      <td>19</td>\n",
              "      <td>female</td>\n",
              "      <td>27.90</td>\n",
              "      <td>0</td>\n",
              "      <td>yes</td>\n",
              "      <td>southwest</td>\n",
              "      <td>16884.9240</td>\n",
              "      <td>10.394908</td>\n",
              "      <td>1.406611e+25</td>\n",
              "    </tr>\n",
              "    <tr>\n",
              "      <th>1</th>\n",
              "      <td>18</td>\n",
              "      <td>male</td>\n",
              "      <td>33.77</td>\n",
              "      <td>1</td>\n",
              "      <td>no</td>\n",
              "      <td>southeast</td>\n",
              "      <td>1725.5523</td>\n",
              "      <td>10.775870</td>\n",
              "      <td>3.602173e+25</td>\n",
              "    </tr>\n",
              "    <tr>\n",
              "      <th>2</th>\n",
              "      <td>28</td>\n",
              "      <td>male</td>\n",
              "      <td>33.00</td>\n",
              "      <td>3</td>\n",
              "      <td>no</td>\n",
              "      <td>southeast</td>\n",
              "      <td>4449.4620</td>\n",
              "      <td>10.717263</td>\n",
              "      <td>3.123819e+25</td>\n",
              "    </tr>\n",
              "    <tr>\n",
              "      <th>4</th>\n",
              "      <td>32</td>\n",
              "      <td>male</td>\n",
              "      <td>28.88</td>\n",
              "      <td>0</td>\n",
              "      <td>no</td>\n",
              "      <td>northwest</td>\n",
              "      <td>3866.8552</td>\n",
              "      <td>10.730090</td>\n",
              "      <td>3.222983e+25</td>\n",
              "    </tr>\n",
              "    <tr>\n",
              "      <th>5</th>\n",
              "      <td>31</td>\n",
              "      <td>female</td>\n",
              "      <td>25.74</td>\n",
              "      <td>0</td>\n",
              "      <td>no</td>\n",
              "      <td>southeast</td>\n",
              "      <td>3756.6216</td>\n",
              "      <td>10.732499</td>\n",
              "      <td>3.241938e+25</td>\n",
              "    </tr>\n",
              "  </tbody>\n",
              "</table>\n",
              "</div>"
            ],
            "text/plain": [
              "   age     sex    bmi  ...     charges logcharges fitted_charges\n",
              "0   19  female  27.90  ...  16884.9240  10.394908   1.406611e+25\n",
              "1   18    male  33.77  ...   1725.5523  10.775870   3.602173e+25\n",
              "2   28    male  33.00  ...   4449.4620  10.717263   3.123819e+25\n",
              "4   32    male  28.88  ...   3866.8552  10.730090   3.222983e+25\n",
              "5   31  female  25.74  ...   3756.6216  10.732499   3.241938e+25\n",
              "\n",
              "[5 rows x 9 columns]"
            ]
          },
          "metadata": {
            "tags": []
          },
          "execution_count": 40
        }
      ]
    },
    {
      "cell_type": "code",
      "metadata": {
        "colab": {
          "base_uri": "https://localhost:8080/",
          "height": 204
        },
        "id": "gLtjn9D7DlGl",
        "outputId": "c182ca9d-49a0-42ad-a077-bbb30c2a5c46"
      },
      "source": [
        "df_boxcox.drop(['charges','logcharges'],axis=1,inplace=True)\n",
        "df_boxcox.head()"
      ],
      "execution_count": null,
      "outputs": [
        {
          "output_type": "execute_result",
          "data": {
            "text/html": [
              "<div>\n",
              "<style scoped>\n",
              "    .dataframe tbody tr th:only-of-type {\n",
              "        vertical-align: middle;\n",
              "    }\n",
              "\n",
              "    .dataframe tbody tr th {\n",
              "        vertical-align: top;\n",
              "    }\n",
              "\n",
              "    .dataframe thead th {\n",
              "        text-align: right;\n",
              "    }\n",
              "</style>\n",
              "<table border=\"1\" class=\"dataframe\">\n",
              "  <thead>\n",
              "    <tr style=\"text-align: right;\">\n",
              "      <th></th>\n",
              "      <th>age</th>\n",
              "      <th>sex</th>\n",
              "      <th>bmi</th>\n",
              "      <th>children</th>\n",
              "      <th>smoker</th>\n",
              "      <th>region</th>\n",
              "      <th>fitted_charges</th>\n",
              "    </tr>\n",
              "  </thead>\n",
              "  <tbody>\n",
              "    <tr>\n",
              "      <th>0</th>\n",
              "      <td>19</td>\n",
              "      <td>female</td>\n",
              "      <td>27.90</td>\n",
              "      <td>0</td>\n",
              "      <td>yes</td>\n",
              "      <td>southwest</td>\n",
              "      <td>1.406611e+25</td>\n",
              "    </tr>\n",
              "    <tr>\n",
              "      <th>1</th>\n",
              "      <td>18</td>\n",
              "      <td>male</td>\n",
              "      <td>33.77</td>\n",
              "      <td>1</td>\n",
              "      <td>no</td>\n",
              "      <td>southeast</td>\n",
              "      <td>3.602173e+25</td>\n",
              "    </tr>\n",
              "    <tr>\n",
              "      <th>2</th>\n",
              "      <td>28</td>\n",
              "      <td>male</td>\n",
              "      <td>33.00</td>\n",
              "      <td>3</td>\n",
              "      <td>no</td>\n",
              "      <td>southeast</td>\n",
              "      <td>3.123819e+25</td>\n",
              "    </tr>\n",
              "    <tr>\n",
              "      <th>4</th>\n",
              "      <td>32</td>\n",
              "      <td>male</td>\n",
              "      <td>28.88</td>\n",
              "      <td>0</td>\n",
              "      <td>no</td>\n",
              "      <td>northwest</td>\n",
              "      <td>3.222983e+25</td>\n",
              "    </tr>\n",
              "    <tr>\n",
              "      <th>5</th>\n",
              "      <td>31</td>\n",
              "      <td>female</td>\n",
              "      <td>25.74</td>\n",
              "      <td>0</td>\n",
              "      <td>no</td>\n",
              "      <td>southeast</td>\n",
              "      <td>3.241938e+25</td>\n",
              "    </tr>\n",
              "  </tbody>\n",
              "</table>\n",
              "</div>"
            ],
            "text/plain": [
              "   age     sex    bmi  children smoker     region  fitted_charges\n",
              "0   19  female  27.90         0    yes  southwest    1.406611e+25\n",
              "1   18    male  33.77         1     no  southeast    3.602173e+25\n",
              "2   28    male  33.00         3     no  southeast    3.123819e+25\n",
              "4   32    male  28.88         0     no  northwest    3.222983e+25\n",
              "5   31  female  25.74         0     no  southeast    3.241938e+25"
            ]
          },
          "metadata": {
            "tags": []
          },
          "execution_count": 41
        }
      ]
    },
    {
      "cell_type": "markdown",
      "metadata": {
        "id": "v77TFSEmCzri"
      },
      "source": [
        "## 7. Model Selection"
      ]
    },
    {
      "cell_type": "markdown",
      "metadata": {
        "id": "yoorlnyYFCQJ"
      },
      "source": [
        "### (1) Forward Selection"
      ]
    },
    {
      "cell_type": "code",
      "metadata": {
        "id": "A7NiGJN3BiD9"
      },
      "source": [
        "def ForwardSelection(df, keyword, method):\n",
        "    '''\n",
        "    The df input is the our dataframe for model selection.\n",
        "    The keyword input is the name of the dependent variable.\n",
        "    The method input is the measure for model selection:\n",
        "    - AIC: 'aic'\n",
        "    - BIC: 'bic'\n",
        "    - Adjusted R Square: 'R_sq_adj'\n",
        "    - Mallows's Cp: 'cp'\n",
        "    The output of this model is a plot of the method value by\n",
        "    the number of the predictors we choose.\n",
        "    This function returns the final model by forward selection.\n",
        "    '''\n",
        "    selection = pd.DataFrame()\n",
        "    predictors = list(df.keys())\n",
        "    predictors.remove(keyword)\n",
        "    \n",
        "    subsets = [[]]\n",
        "    \n",
        "    for predictor in predictors:\n",
        "        prev = copy.deepcopy(subsets)\n",
        "        [k.append(predictor) for k in subsets]\n",
        "        subsets.extend(prev)\n",
        "    \n",
        "    predstr = [' + '.join(i) for i in subsets if i]\n",
        "    \n",
        "    model_full = smf.ols(f'{keyword} ~ {predstr[0]}', data=df).fit()\n",
        "    n = len(df)\n",
        "    k = len(df.keys())\n",
        "    MSE_full = sum(model_full.resid**2)/(n-k)\n",
        "    \n",
        "    measure_values = []\n",
        "    step_values = []\n",
        "    \n",
        "    for predictor in predictors:\n",
        "        modelstr = keyword + ' ~ ' + predictor\n",
        "        model = smf.ols(f'{modelstr}', data=df).fit()\n",
        "        \n",
        "        if method == 'aic':\n",
        "            measure_values.append(model.aic)\n",
        "        elif method == 'bic':\n",
        "            measure_values.append(model.bic)\n",
        "        elif method == 'R_sq_adj':\n",
        "            measure_values.append(model.rsquared_adj)\n",
        "        elif method == 'cp':\n",
        "            p = 2\n",
        "            cp = sum(model.resid**2)/MSE_full - (n - 2*p)\n",
        "            measure_values.append(cp)\n",
        "    \n",
        "    step_values.append(max(measure_values))\n",
        "    best = predictors[measure_values.index(max(measure_values))]\n",
        "    predictors.remove(best)\n",
        "    keyword = keyword + ' ~ ' + best\n",
        "    \n",
        "    while predictors:\n",
        "        \n",
        "        measure_values = []\n",
        "        \n",
        "        for predictor in predictors:\n",
        "            modelstr = keyword + ' + ' + predictor\n",
        "            model = smf.ols(f'{modelstr}', data=df).fit()\n",
        "\n",
        "            if method == 'aic':\n",
        "                measure_values.append(model.aic)\n",
        "            elif method == 'bic':\n",
        "                measure_values.append(model.bic)\n",
        "            elif method == 'R_sq_adj':\n",
        "                measure_values.append(model.rsquared_adj)\n",
        "            elif method == 'cp':\n",
        "                p = len(modelstr.split(' + ')) + 1\n",
        "                cp = sum(model.resid**2)/MSE_full - (n - 2*p)\n",
        "                measure_values.append(cp)\n",
        "        \n",
        "        step_values.append(max(measure_values))\n",
        "        best = predictors[measure_values.index(max(measure_values))]\n",
        "        predictors.remove(best)\n",
        "        keyword = keyword + ' + ' + best\n",
        "        \n",
        "    fig, ax = plt.subplots(figsize=(3,3))\n",
        "    \n",
        "    ax.plot(range(1, len(keyword.split(' + ')) + 1), step_values)\n",
        "    ax.set_xlabel('Number of the predictors')\n",
        "    ax.set_ylabel(method)\n",
        "\n",
        "    plt.show()\n",
        "    \n",
        "    if method == 'R_sq_adj':\n",
        "        best_model = ' + '.join(keyword.split(' + ')[:step_values.index(max(step_values))+1])\n",
        "    else:\n",
        "        best_model = ' + '.join(keyword.split(' + ')[:step_values.index(min(step_values))+1])\n",
        "    \n",
        "    return best_model"
      ],
      "execution_count": null,
      "outputs": []
    },
    {
      "cell_type": "code",
      "metadata": {
        "colab": {
          "base_uri": "https://localhost:8080/",
          "height": 242
        },
        "id": "u1B9_wJjC1m6",
        "outputId": "b2b804ea-067e-4e1e-93ff-cc2cb16f2da0"
      },
      "source": [
        "ForwardSelection(df_boxcox, 'fitted_charges', 'cp')"
      ],
      "execution_count": null,
      "outputs": [
        {
          "output_type": "display_data",
          "data": {
            "image/png": "[encoded data removed]",
            "text/plain": [
              "<Figure size 216x216 with 1 Axes>"
            ]
          },
          "metadata": {
            "tags": [],
            "image/png": {
              "width": 234,
              "height": 207
            },
            "needs_background": "light"
          }
        },
        {
          "output_type": "execute_result",
          "data": {
            "application/vnd.google.colaboratory.intrinsic+json": {
              "type": "string"
            },
            "text/plain": [
              "'fitted_charges ~ sex + region + children + bmi + age + smoker'"
            ]
          },
          "metadata": {
            "tags": []
          },
          "execution_count": 42
        }
      ]
    },
    {
      "cell_type": "code",
      "metadata": {
        "colab": {
          "base_uri": "https://localhost:8080/",
          "height": 242
        },
        "id": "NPMfkXHBD5Xd",
        "outputId": "39738228-d1ac-4cf4-9cc1-f068dddaf3a4"
      },
      "source": [
        "ForwardSelection(df_boxcox, 'fitted_charges', 'bic')"
      ],
      "execution_count": null,
      "outputs": [
        {
          "output_type": "display_data",
          "data": {
            "image/png": "[encoded data removed]",
            "text/plain": [
              "<Figure size 216x216 with 1 Axes>"
            ]
          },
          "metadata": {
            "tags": [],
            "image/png": {
              "width": 240,
              "height": 207
            },
            "needs_background": "light"
          }
        },
        {
          "output_type": "execute_result",
          "data": {
            "application/vnd.google.colaboratory.intrinsic+json": {
              "type": "string"
            },
            "text/plain": [
              "'fitted_charges ~ region + sex + children + bmi + age + smoker'"
            ]
          },
          "metadata": {
            "tags": []
          },
          "execution_count": 44
        }
      ]
    },
    {
      "cell_type": "code",
      "metadata": {
        "colab": {
          "base_uri": "https://localhost:8080/",
          "height": 242
        },
        "id": "X7T2y-0kD-mv",
        "outputId": "003cd988-bea3-482a-9ce9-383f51f970f6"
      },
      "source": [
        "ForwardSelection(df_boxcox, 'fitted_charges', 'R_sq_adj')"
      ],
      "execution_count": null,
      "outputs": [
        {
          "output_type": "display_data",
          "data": {
            "image/png": "[encoded data removed]",
            "text/plain": [
              "<Figure size 216x216 with 1 Axes>"
            ]
          },
          "metadata": {
            "tags": [],
            "image/png": {
              "width": 225,
              "height": 207
            },
            "needs_background": "light"
          }
        },
        {
          "output_type": "execute_result",
          "data": {
            "application/vnd.google.colaboratory.intrinsic+json": {
              "type": "string"
            },
            "text/plain": [
              "'fitted_charges ~ smoker + age + bmi + children + region + sex'"
            ]
          },
          "metadata": {
            "tags": []
          },
          "execution_count": 45
        }
      ]
    },
    {
      "cell_type": "markdown",
      "metadata": {
        "id": "vskFUG2YFG4c"
      },
      "source": [
        "### (2) Subset Selection"
      ]
    },
    {
      "cell_type": "code",
      "metadata": {
        "id": "AFLB5qGtESw_"
      },
      "source": [
        "def SubsetSelection(df, keyword):\n",
        "    '''\n",
        "    This is a function for the subset model selection. The\n",
        "    output of this function is a dataframe with the stats \n",
        "    of every subset. \n",
        "    The input df is our input dataframe, and the input keyword\n",
        "    is the name of the dependent variable.\n",
        "    '''\n",
        "    selection = pd.DataFrame()\n",
        "    predictors = list(df.keys())\n",
        "    predictors.remove(keyword)\n",
        "    subsets = [[]]\n",
        "    \n",
        "    for predictor in predictors:\n",
        "        prev = copy.deepcopy(subsets)\n",
        "        [k.append(predictor) for k in subsets]\n",
        "        subsets.extend(prev)\n",
        "    \n",
        "    predstr = [' + '.join(i) for i in subsets if i]\n",
        "    varnum = [len(i) for i in subsets if i]\n",
        "    \n",
        "    model_full = smf.ols(f'{keyword} ~ {predstr[0]}', data=df).fit()\n",
        "    n = len(df)\n",
        "    k = len(df.keys())\n",
        "    MSE_full = sum(model_full.resid**2)/(n-k)\n",
        "    \n",
        "    r2 = []\n",
        "    adjr2 = []\n",
        "    aic = []\n",
        "    bic = []\n",
        "    cplist = []\n",
        "    for stritem in predstr:\n",
        "        model = smf.ols(f'{keyword} ~ {stritem}', data=df).fit()\n",
        "        \n",
        "        r2.append(model.rsquared)\n",
        "        adjr2.append(model.rsquared_adj)\n",
        "        aic.append(model.aic)\n",
        "        bic.append(model.bic)\n",
        "        \n",
        "        p = len(stritem.split(' + ')) + 1\n",
        "        cp = sum(model.resid**2)/MSE_full - (n - 2*p)\n",
        "        cplist.append(cp)\n",
        "    \n",
        "    selection['Vars'] = varnum\n",
        "    selection['R-Sq'] = r2\n",
        "    selection['Adj R-Sq'] = adjr2\n",
        "    selection['AIC'] = aic\n",
        "    selection['BIC'] = bic\n",
        "    selection['Mallows\\'s Cp'] = cplist\n",
        "    selection['Predictors'] = predstr\n",
        "    \n",
        "    selection = selection.sort_values(by=['Vars'], ascending=True)\n",
        "    \n",
        "    return selection"
      ],
      "execution_count": null,
      "outputs": []
    },
    {
      "cell_type": "code",
      "metadata": {
        "id": "xePB3z4QF7Gl"
      },
      "source": [
        "pd.set_option('display.max_rows', None)"
      ],
      "execution_count": null,
      "outputs": []
    },
    {
      "cell_type": "code",
      "metadata": {
        "colab": {
          "base_uri": "https://localhost:8080/",
          "height": 1000
        },
        "id": "IuXQNs1TFKFy",
        "outputId": "102114bb-942d-43cb-e288-95b033a9a244"
      },
      "source": [
        "SubsetSelection(df_boxcox, 'fitted_charges').head(63)"
      ],
      "execution_count": null,
      "outputs": [
        {
          "output_type": "execute_result",
          "data": {
            "text/html": [
              "<div>\n",
              "<style scoped>\n",
              "    .dataframe tbody tr th:only-of-type {\n",
              "        vertical-align: middle;\n",
              "    }\n",
              "\n",
              "    .dataframe tbody tr th {\n",
              "        vertical-align: top;\n",
              "    }\n",
              "\n",
              "    .dataframe thead th {\n",
              "        text-align: right;\n",
              "    }\n",
              "</style>\n",
              "<table border=\"1\" class=\"dataframe\">\n",
              "  <thead>\n",
              "    <tr style=\"text-align: right;\">\n",
              "      <th></th>\n",
              "      <th>Vars</th>\n",
              "      <th>R-Sq</th>\n",
              "      <th>Adj R-Sq</th>\n",
              "      <th>AIC</th>\n",
              "      <th>BIC</th>\n",
              "      <th>Mallows's Cp</th>\n",
              "      <th>Predictors</th>\n",
              "    </tr>\n",
              "  </thead>\n",
              "  <tbody>\n",
              "    <tr>\n",
              "      <th>31</th>\n",
              "      <td>1</td>\n",
              "      <td>0.004545</td>\n",
              "      <td>0.002105</td>\n",
              "      <td>144999.524791</td>\n",
              "      <td>145019.977359</td>\n",
              "      <td>10450.503056</td>\n",
              "      <td>region</td>\n",
              "    </tr>\n",
              "    <tr>\n",
              "      <th>59</th>\n",
              "      <td>1</td>\n",
              "      <td>0.022528</td>\n",
              "      <td>0.021730</td>\n",
              "      <td>144973.138108</td>\n",
              "      <td>144983.364393</td>\n",
              "      <td>10239.602782</td>\n",
              "      <td>bmi</td>\n",
              "    </tr>\n",
              "    <tr>\n",
              "      <th>55</th>\n",
              "      <td>1</td>\n",
              "      <td>0.007542</td>\n",
              "      <td>0.006733</td>\n",
              "      <td>144991.821342</td>\n",
              "      <td>145002.047626</td>\n",
              "      <td>10415.347688</td>\n",
              "      <td>children</td>\n",
              "    </tr>\n",
              "    <tr>\n",
              "      <th>47</th>\n",
              "      <td>1</td>\n",
              "      <td>0.663561</td>\n",
              "      <td>0.663287</td>\n",
              "      <td>143663.409632</td>\n",
              "      <td>143673.635917</td>\n",
              "      <td>2721.686304</td>\n",
              "      <td>smoker</td>\n",
              "    </tr>\n",
              "    <tr>\n",
              "      <th>61</th>\n",
              "      <td>1</td>\n",
              "      <td>0.001910</td>\n",
              "      <td>0.001096</td>\n",
              "      <td>144998.771306</td>\n",
              "      <td>145008.997590</td>\n",
              "      <td>10481.408269</td>\n",
              "      <td>sex</td>\n",
              "    </tr>\n",
              "    <tr>\n",
              "      <th>62</th>\n",
              "      <td>1</td>\n",
              "      <td>0.186378</td>\n",
              "      <td>0.185715</td>\n",
              "      <td>144747.831757</td>\n",
              "      <td>144758.058041</td>\n",
              "      <td>8317.997195</td>\n",
              "      <td>age</td>\n",
              "    </tr>\n",
              "    <tr>\n",
              "      <th>43</th>\n",
              "      <td>2</td>\n",
              "      <td>0.682171</td>\n",
              "      <td>0.681652</td>\n",
              "      <td>143595.535050</td>\n",
              "      <td>143610.874477</td>\n",
              "      <td>2505.440412</td>\n",
              "      <td>bmi + smoker</td>\n",
              "    </tr>\n",
              "    <tr>\n",
              "      <th>29</th>\n",
              "      <td>2</td>\n",
              "      <td>0.006354</td>\n",
              "      <td>0.003104</td>\n",
              "      <td>144999.291217</td>\n",
              "      <td>145024.856928</td>\n",
              "      <td>10431.287941</td>\n",
              "      <td>sex + region</td>\n",
              "    </tr>\n",
              "    <tr>\n",
              "      <th>30</th>\n",
              "      <td>2</td>\n",
              "      <td>0.192048</td>\n",
              "      <td>0.189406</td>\n",
              "      <td>144745.244080</td>\n",
              "      <td>144770.809791</td>\n",
              "      <td>8253.500671</td>\n",
              "      <td>age + region</td>\n",
              "    </tr>\n",
              "    <tr>\n",
              "      <th>23</th>\n",
              "      <td>2</td>\n",
              "      <td>0.012575</td>\n",
              "      <td>0.009346</td>\n",
              "      <td>144991.578267</td>\n",
              "      <td>145017.143978</td>\n",
              "      <td>10358.324138</td>\n",
              "      <td>children + region</td>\n",
              "    </tr>\n",
              "    <tr>\n",
              "      <th>46</th>\n",
              "      <td>2</td>\n",
              "      <td>0.880039</td>\n",
              "      <td>0.879843</td>\n",
              "      <td>142399.035752</td>\n",
              "      <td>142414.375178</td>\n",
              "      <td>184.879060</td>\n",
              "      <td>age + smoker</td>\n",
              "    </tr>\n",
              "    <tr>\n",
              "      <th>51</th>\n",
              "      <td>2</td>\n",
              "      <td>0.029266</td>\n",
              "      <td>0.027682</td>\n",
              "      <td>144966.642973</td>\n",
              "      <td>144981.982399</td>\n",
              "      <td>10162.572823</td>\n",
              "      <td>bmi + children</td>\n",
              "    </tr>\n",
              "    <tr>\n",
              "      <th>45</th>\n",
              "      <td>2</td>\n",
              "      <td>0.664244</td>\n",
              "      <td>0.663695</td>\n",
              "      <td>143662.917222</td>\n",
              "      <td>143678.256648</td>\n",
              "      <td>2715.686062</td>\n",
              "      <td>sex + smoker</td>\n",
              "    </tr>\n",
              "    <tr>\n",
              "      <th>53</th>\n",
              "      <td>2</td>\n",
              "      <td>0.009264</td>\n",
              "      <td>0.007646</td>\n",
              "      <td>144991.689920</td>\n",
              "      <td>145007.029346</td>\n",
              "      <td>10397.162958</td>\n",
              "      <td>sex + children</td>\n",
              "    </tr>\n",
              "    <tr>\n",
              "      <th>15</th>\n",
              "      <td>2</td>\n",
              "      <td>0.664914</td>\n",
              "      <td>0.663818</td>\n",
              "      <td>143664.461309</td>\n",
              "      <td>143690.027019</td>\n",
              "      <td>2707.818838</td>\n",
              "      <td>smoker + region</td>\n",
              "    </tr>\n",
              "    <tr>\n",
              "      <th>54</th>\n",
              "      <td>2</td>\n",
              "      <td>0.190372</td>\n",
              "      <td>0.189051</td>\n",
              "      <td>144743.788374</td>\n",
              "      <td>144759.127800</td>\n",
              "      <td>8273.153316</td>\n",
              "      <td>age + children</td>\n",
              "    </tr>\n",
              "    <tr>\n",
              "      <th>39</th>\n",
              "      <td>2</td>\n",
              "      <td>0.673174</td>\n",
              "      <td>0.672640</td>\n",
              "      <td>143629.812433</td>\n",
              "      <td>143645.151860</td>\n",
              "      <td>2610.950836</td>\n",
              "      <td>children + smoker</td>\n",
              "    </tr>\n",
              "    <tr>\n",
              "      <th>57</th>\n",
              "      <td>2</td>\n",
              "      <td>0.023962</td>\n",
              "      <td>0.022368</td>\n",
              "      <td>144973.335301</td>\n",
              "      <td>144988.674728</td>\n",
              "      <td>10224.785599</td>\n",
              "      <td>sex + bmi</td>\n",
              "    </tr>\n",
              "    <tr>\n",
              "      <th>58</th>\n",
              "      <td>2</td>\n",
              "      <td>0.197996</td>\n",
              "      <td>0.196687</td>\n",
              "      <td>144732.170353</td>\n",
              "      <td>144747.509780</td>\n",
              "      <td>8183.743964</td>\n",
              "      <td>age + bmi</td>\n",
              "    </tr>\n",
              "    <tr>\n",
              "      <th>60</th>\n",
              "      <td>2</td>\n",
              "      <td>0.189401</td>\n",
              "      <td>0.188077</td>\n",
              "      <td>144745.261478</td>\n",
              "      <td>144760.600904</td>\n",
              "      <td>8284.550499</td>\n",
              "      <td>age + sex</td>\n",
              "    </tr>\n",
              "    <tr>\n",
              "      <th>27</th>\n",
              "      <td>2</td>\n",
              "      <td>0.025614</td>\n",
              "      <td>0.022427</td>\n",
              "      <td>144975.255318</td>\n",
              "      <td>145000.821029</td>\n",
              "      <td>10205.413475</td>\n",
              "      <td>bmi + region</td>\n",
              "    </tr>\n",
              "    <tr>\n",
              "      <th>28</th>\n",
              "      <td>3</td>\n",
              "      <td>0.194941</td>\n",
              "      <td>0.191647</td>\n",
              "      <td>144742.839689</td>\n",
              "      <td>144773.518542</td>\n",
              "      <td>8221.576359</td>\n",
              "      <td>age + sex + region</td>\n",
              "    </tr>\n",
              "    <tr>\n",
              "      <th>38</th>\n",
              "      <td>3</td>\n",
              "      <td>0.885339</td>\n",
              "      <td>0.885058</td>\n",
              "      <td>142345.546570</td>\n",
              "      <td>142365.999138</td>\n",
              "      <td>124.721850</td>\n",
              "      <td>age + children + smoker</td>\n",
              "    </tr>\n",
              "    <tr>\n",
              "      <th>35</th>\n",
              "      <td>3</td>\n",
              "      <td>0.690950</td>\n",
              "      <td>0.690192</td>\n",
              "      <td>143563.137039</td>\n",
              "      <td>143583.589608</td>\n",
              "      <td>2404.478341</td>\n",
              "      <td>bmi + children + smoker</td>\n",
              "    </tr>\n",
              "    <tr>\n",
              "      <th>44</th>\n",
              "      <td>3</td>\n",
              "      <td>0.880281</td>\n",
              "      <td>0.879988</td>\n",
              "      <td>142398.554110</td>\n",
              "      <td>142419.006679</td>\n",
              "      <td>184.038797</td>\n",
              "      <td>age + sex + smoker</td>\n",
              "    </tr>\n",
              "    <tr>\n",
              "      <th>49</th>\n",
              "      <td>3</td>\n",
              "      <td>0.030553</td>\n",
              "      <td>0.028177</td>\n",
              "      <td>144967.013911</td>\n",
              "      <td>144987.466480</td>\n",
              "      <td>10149.480091</td>\n",
              "      <td>sex + bmi + children</td>\n",
              "    </tr>\n",
              "    <tr>\n",
              "      <th>41</th>\n",
              "      <td>3</td>\n",
              "      <td>0.683150</td>\n",
              "      <td>0.682373</td>\n",
              "      <td>143593.746354</td>\n",
              "      <td>143614.198922</td>\n",
              "      <td>2495.958020</td>\n",
              "      <td>sex + bmi + smoker</td>\n",
              "    </tr>\n",
              "    <tr>\n",
              "      <th>37</th>\n",
              "      <td>3</td>\n",
              "      <td>0.674002</td>\n",
              "      <td>0.673203</td>\n",
              "      <td>143628.699025</td>\n",
              "      <td>143649.151593</td>\n",
              "      <td>2603.245277</td>\n",
              "      <td>sex + children + smoker</td>\n",
              "    </tr>\n",
              "    <tr>\n",
              "      <th>50</th>\n",
              "      <td>3</td>\n",
              "      <td>0.201638</td>\n",
              "      <td>0.199681</td>\n",
              "      <td>144728.581983</td>\n",
              "      <td>144749.034551</td>\n",
              "      <td>8143.037642</td>\n",
              "      <td>age + bmi + children</td>\n",
              "    </tr>\n",
              "    <tr>\n",
              "      <th>25</th>\n",
              "      <td>3</td>\n",
              "      <td>0.026967</td>\n",
              "      <td>0.022986</td>\n",
              "      <td>144975.547895</td>\n",
              "      <td>145006.226747</td>\n",
              "      <td>10191.535723</td>\n",
              "      <td>sex + bmi + region</td>\n",
              "    </tr>\n",
              "    <tr>\n",
              "      <th>42</th>\n",
              "      <td>3</td>\n",
              "      <td>0.888200</td>\n",
              "      <td>0.887926</td>\n",
              "      <td>142314.518205</td>\n",
              "      <td>142334.970773</td>\n",
              "      <td>91.169898</td>\n",
              "      <td>age + bmi + smoker</td>\n",
              "    </tr>\n",
              "    <tr>\n",
              "      <th>22</th>\n",
              "      <td>3</td>\n",
              "      <td>0.196405</td>\n",
              "      <td>0.193117</td>\n",
              "      <td>144740.603555</td>\n",
              "      <td>144771.282408</td>\n",
              "      <td>8204.399307</td>\n",
              "      <td>age + children + region</td>\n",
              "    </tr>\n",
              "    <tr>\n",
              "      <th>21</th>\n",
              "      <td>3</td>\n",
              "      <td>0.014189</td>\n",
              "      <td>0.010155</td>\n",
              "      <td>144991.569792</td>\n",
              "      <td>145022.248645</td>\n",
              "      <td>10341.399236</td>\n",
              "      <td>sex + children + region</td>\n",
              "    </tr>\n",
              "    <tr>\n",
              "      <th>19</th>\n",
              "      <td>3</td>\n",
              "      <td>0.032748</td>\n",
              "      <td>0.028790</td>\n",
              "      <td>144968.230680</td>\n",
              "      <td>144998.909533</td>\n",
              "      <td>10123.740634</td>\n",
              "      <td>bmi + children + region</td>\n",
              "    </tr>\n",
              "    <tr>\n",
              "      <th>52</th>\n",
              "      <td>3</td>\n",
              "      <td>0.193211</td>\n",
              "      <td>0.191234</td>\n",
              "      <td>144741.474766</td>\n",
              "      <td>144761.927334</td>\n",
              "      <td>8241.858108</td>\n",
              "      <td>age + sex + children</td>\n",
              "    </tr>\n",
              "    <tr>\n",
              "      <th>14</th>\n",
              "      <td>3</td>\n",
              "      <td>0.881358</td>\n",
              "      <td>0.880872</td>\n",
              "      <td>142391.463096</td>\n",
              "      <td>142422.141948</td>\n",
              "      <td>171.414933</td>\n",
              "      <td>age + smoker + region</td>\n",
              "    </tr>\n",
              "    <tr>\n",
              "      <th>13</th>\n",
              "      <td>3</td>\n",
              "      <td>0.665635</td>\n",
              "      <td>0.664267</td>\n",
              "      <td>143663.816940</td>\n",
              "      <td>143694.495793</td>\n",
              "      <td>2701.365491</td>\n",
              "      <td>sex + smoker + region</td>\n",
              "    </tr>\n",
              "    <tr>\n",
              "      <th>56</th>\n",
              "      <td>3</td>\n",
              "      <td>0.200547</td>\n",
              "      <td>0.198588</td>\n",
              "      <td>144730.257755</td>\n",
              "      <td>144750.710324</td>\n",
              "      <td>8155.823499</td>\n",
              "      <td>age + sex + bmi</td>\n",
              "    </tr>\n",
              "    <tr>\n",
              "      <th>11</th>\n",
              "      <td>3</td>\n",
              "      <td>0.686233</td>\n",
              "      <td>0.684950</td>\n",
              "      <td>143585.736201</td>\n",
              "      <td>143616.415054</td>\n",
              "      <td>2459.792149</td>\n",
              "      <td>bmi + smoker + region</td>\n",
              "    </tr>\n",
              "    <tr>\n",
              "      <th>7</th>\n",
              "      <td>3</td>\n",
              "      <td>0.674782</td>\n",
              "      <td>0.673452</td>\n",
              "      <td>143629.753935</td>\n",
              "      <td>143660.432788</td>\n",
              "      <td>2594.087046</td>\n",
              "      <td>children + smoker + region</td>\n",
              "    </tr>\n",
              "    <tr>\n",
              "      <th>26</th>\n",
              "      <td>3</td>\n",
              "      <td>0.201519</td>\n",
              "      <td>0.198252</td>\n",
              "      <td>144732.764580</td>\n",
              "      <td>144763.443432</td>\n",
              "      <td>8144.429979</td>\n",
              "      <td>age + bmi + region</td>\n",
              "    </tr>\n",
              "    <tr>\n",
              "      <th>48</th>\n",
              "      <td>4</td>\n",
              "      <td>0.204034</td>\n",
              "      <td>0.201431</td>\n",
              "      <td>144726.890096</td>\n",
              "      <td>144752.455807</td>\n",
              "      <td>8116.930668</td>\n",
              "      <td>age + sex + bmi + children</td>\n",
              "    </tr>\n",
              "    <tr>\n",
              "      <th>3</th>\n",
              "      <td>4</td>\n",
              "      <td>0.695101</td>\n",
              "      <td>0.693603</td>\n",
              "      <td>143552.529807</td>\n",
              "      <td>143588.321802</td>\n",
              "      <td>2357.791561</td>\n",
              "      <td>bmi + children + smoker + region</td>\n",
              "    </tr>\n",
              "    <tr>\n",
              "      <th>6</th>\n",
              "      <td>4</td>\n",
              "      <td>0.886860</td>\n",
              "      <td>0.886304</td>\n",
              "      <td>142335.145305</td>\n",
              "      <td>142370.937300</td>\n",
              "      <td>108.881045</td>\n",
              "      <td>age + children + smoker + region</td>\n",
              "    </tr>\n",
              "    <tr>\n",
              "      <th>34</th>\n",
              "      <td>4</td>\n",
              "      <td>0.893155</td>\n",
              "      <td>0.892806</td>\n",
              "      <td>142260.848652</td>\n",
              "      <td>142286.414362</td>\n",
              "      <td>35.057141</td>\n",
              "      <td>age + bmi + children + smoker</td>\n",
              "    </tr>\n",
              "    <tr>\n",
              "      <th>36</th>\n",
              "      <td>4</td>\n",
              "      <td>0.885650</td>\n",
              "      <td>0.885276</td>\n",
              "      <td>142344.216183</td>\n",
              "      <td>142369.781893</td>\n",
              "      <td>123.079849</td>\n",
              "      <td>age + sex + children + smoker</td>\n",
              "    </tr>\n",
              "    <tr>\n",
              "      <th>9</th>\n",
              "      <td>4</td>\n",
              "      <td>0.687303</td>\n",
              "      <td>0.685767</td>\n",
              "      <td>143583.541956</td>\n",
              "      <td>143619.333950</td>\n",
              "      <td>2449.245224</td>\n",
              "      <td>sex + bmi + smoker + region</td>\n",
              "    </tr>\n",
              "    <tr>\n",
              "      <th>10</th>\n",
              "      <td>4</td>\n",
              "      <td>0.890295</td>\n",
              "      <td>0.889755</td>\n",
              "      <td>142297.292141</td>\n",
              "      <td>142333.084136</td>\n",
              "      <td>68.603831</td>\n",
              "      <td>age + bmi + smoker + region</td>\n",
              "    </tr>\n",
              "    <tr>\n",
              "      <th>12</th>\n",
              "      <td>4</td>\n",
              "      <td>0.881623</td>\n",
              "      <td>0.881041</td>\n",
              "      <td>142390.712958</td>\n",
              "      <td>142426.504953</td>\n",
              "      <td>170.302311</td>\n",
              "      <td>age + sex + smoker + region</td>\n",
              "    </tr>\n",
              "    <tr>\n",
              "      <th>40</th>\n",
              "      <td>4</td>\n",
              "      <td>0.888569</td>\n",
              "      <td>0.888205</td>\n",
              "      <td>142312.457258</td>\n",
              "      <td>142338.022969</td>\n",
              "      <td>88.841073</td>\n",
              "      <td>age + sex + bmi + smoker</td>\n",
              "    </tr>\n",
              "    <tr>\n",
              "      <th>18</th>\n",
              "      <td>4</td>\n",
              "      <td>0.205504</td>\n",
              "      <td>0.201599</td>\n",
              "      <td>144728.621042</td>\n",
              "      <td>144764.413037</td>\n",
              "      <td>8099.697849</td>\n",
              "      <td>age + bmi + children + region</td>\n",
              "    </tr>\n",
              "    <tr>\n",
              "      <th>17</th>\n",
              "      <td>4</td>\n",
              "      <td>0.033951</td>\n",
              "      <td>0.029204</td>\n",
              "      <td>144968.702460</td>\n",
              "      <td>145004.494455</td>\n",
              "      <td>10111.632364</td>\n",
              "      <td>sex + bmi + children + region</td>\n",
              "    </tr>\n",
              "    <tr>\n",
              "      <th>24</th>\n",
              "      <td>4</td>\n",
              "      <td>0.203984</td>\n",
              "      <td>0.200073</td>\n",
              "      <td>144730.967096</td>\n",
              "      <td>144766.759091</td>\n",
              "      <td>8117.516020</td>\n",
              "      <td>age + sex + bmi + region</td>\n",
              "    </tr>\n",
              "    <tr>\n",
              "      <th>33</th>\n",
              "      <td>4</td>\n",
              "      <td>0.692086</td>\n",
              "      <td>0.691079</td>\n",
              "      <td>143560.612813</td>\n",
              "      <td>143586.178523</td>\n",
              "      <td>2393.149521</td>\n",
              "      <td>sex + bmi + children + smoker</td>\n",
              "    </tr>\n",
              "    <tr>\n",
              "      <th>5</th>\n",
              "      <td>4</td>\n",
              "      <td>0.675659</td>\n",
              "      <td>0.674065</td>\n",
              "      <td>143628.440345</td>\n",
              "      <td>143664.232340</td>\n",
              "      <td>2585.809126</td>\n",
              "      <td>sex + children + smoker + region</td>\n",
              "    </tr>\n",
              "    <tr>\n",
              "      <th>20</th>\n",
              "      <td>4</td>\n",
              "      <td>0.199105</td>\n",
              "      <td>0.195169</td>\n",
              "      <td>144738.471405</td>\n",
              "      <td>144774.263400</td>\n",
              "      <td>8174.740037</td>\n",
              "      <td>age + sex + children + region</td>\n",
              "    </tr>\n",
              "    <tr>\n",
              "      <th>4</th>\n",
              "      <td>5</td>\n",
              "      <td>0.887200</td>\n",
              "      <td>0.886553</td>\n",
              "      <td>142333.447603</td>\n",
              "      <td>142374.352740</td>\n",
              "      <td>106.891606</td>\n",
              "      <td>age + sex + children + smoker + region</td>\n",
              "    </tr>\n",
              "    <tr>\n",
              "      <th>16</th>\n",
              "      <td>5</td>\n",
              "      <td>0.207806</td>\n",
              "      <td>0.203261</td>\n",
              "      <td>144727.057290</td>\n",
              "      <td>144767.962427</td>\n",
              "      <td>8074.696356</td>\n",
              "      <td>age + sex + bmi + children + region</td>\n",
              "    </tr>\n",
              "    <tr>\n",
              "      <th>2</th>\n",
              "      <td>5</td>\n",
              "      <td>0.895389</td>\n",
              "      <td>0.894789</td>\n",
              "      <td>142240.895038</td>\n",
              "      <td>142281.800175</td>\n",
              "      <td>10.851845</td>\n",
              "      <td>age + bmi + children + smoker + region</td>\n",
              "    </tr>\n",
              "    <tr>\n",
              "      <th>32</th>\n",
              "      <td>5</td>\n",
              "      <td>0.893602</td>\n",
              "      <td>0.893166</td>\n",
              "      <td>142257.705904</td>\n",
              "      <td>142288.384757</td>\n",
              "      <td>31.820429</td>\n",
              "      <td>age + sex + bmi + children + smoker</td>\n",
              "    </tr>\n",
              "    <tr>\n",
              "      <th>1</th>\n",
              "      <td>5</td>\n",
              "      <td>0.696340</td>\n",
              "      <td>0.694597</td>\n",
              "      <td>143549.531830</td>\n",
              "      <td>143590.436967</td>\n",
              "      <td>2345.267616</td>\n",
              "      <td>sex + bmi + children + smoker + region</td>\n",
              "    </tr>\n",
              "    <tr>\n",
              "      <th>8</th>\n",
              "      <td>5</td>\n",
              "      <td>0.890709</td>\n",
              "      <td>0.890082</td>\n",
              "      <td>142294.645903</td>\n",
              "      <td>142335.551040</td>\n",
              "      <td>65.745058</td>\n",
              "      <td>age + sex + bmi + smoker + region</td>\n",
              "    </tr>\n",
              "    <tr>\n",
              "      <th>0</th>\n",
              "      <td>6</td>\n",
              "      <td>0.895888</td>\n",
              "      <td>0.895205</td>\n",
              "      <td>142237.023702</td>\n",
              "      <td>142283.041981</td>\n",
              "      <td>7.000000</td>\n",
              "      <td>age + sex + bmi + children + smoker + region</td>\n",
              "    </tr>\n",
              "  </tbody>\n",
              "</table>\n",
              "</div>"
            ],
            "text/plain": [
              "    Vars      R-Sq  ...  Mallows's Cp                                    Predictors\n",
              "31     1  0.004545  ...  10450.503056                                        region\n",
              "59     1  0.022528  ...  10239.602782                                           bmi\n",
              "55     1  0.007542  ...  10415.347688                                      children\n",
              "47     1  0.663561  ...   2721.686304                                        smoker\n",
              "61     1  0.001910  ...  10481.408269                                           sex\n",
              "62     1  0.186378  ...   8317.997195                                           age\n",
              "43     2  0.682171  ...   2505.440412                                  bmi + smoker\n",
              "29     2  0.006354  ...  10431.287941                                  sex + region\n",
              "30     2  0.192048  ...   8253.500671                                  age + region\n",
              "23     2  0.012575  ...  10358.324138                             children + region\n",
              "46     2  0.880039  ...    184.879060                                  age + smoker\n",
              "51     2  0.029266  ...  10162.572823                                bmi + children\n",
              "45     2  0.664244  ...   2715.686062                                  sex + smoker\n",
              "53     2  0.009264  ...  10397.162958                                sex + children\n",
              "15     2  0.664914  ...   2707.818838                               smoker + region\n",
              "54     2  0.190372  ...   8273.153316                                age + children\n",
              "39     2  0.673174  ...   2610.950836                             children + smoker\n",
              "57     2  0.023962  ...  10224.785599                                     sex + bmi\n",
              "58     2  0.197996  ...   8183.743964                                     age + bmi\n",
              "60     2  0.189401  ...   8284.550499                                     age + sex\n",
              "27     2  0.025614  ...  10205.413475                                  bmi + region\n",
              "28     3  0.194941  ...   8221.576359                            age + sex + region\n",
              "38     3  0.885339  ...    124.721850                       age + children + smoker\n",
              "35     3  0.690950  ...   2404.478341                       bmi + children + smoker\n",
              "44     3  0.880281  ...    184.038797                            age + sex + smoker\n",
              "49     3  0.030553  ...  10149.480091                          sex + bmi + children\n",
              "41     3  0.683150  ...   2495.958020                            sex + bmi + smoker\n",
              "37     3  0.674002  ...   2603.245277                       sex + children + smoker\n",
              "50     3  0.201638  ...   8143.037642                          age + bmi + children\n",
              "25     3  0.026967  ...  10191.535723                            sex + bmi + region\n",
              "42     3  0.888200  ...     91.169898                            age + bmi + smoker\n",
              "22     3  0.196405  ...   8204.399307                       age + children + region\n",
              "21     3  0.014189  ...  10341.399236                       sex + children + region\n",
              "19     3  0.032748  ...  10123.740634                       bmi + children + region\n",
              "52     3  0.193211  ...   8241.858108                          age + sex + children\n",
              "14     3  0.881358  ...    171.414933                         age + smoker + region\n",
              "13     3  0.665635  ...   2701.365491                         sex + smoker + region\n",
              "56     3  0.200547  ...   8155.823499                               age + sex + bmi\n",
              "11     3  0.686233  ...   2459.792149                         bmi + smoker + region\n",
              "7      3  0.674782  ...   2594.087046                    children + smoker + region\n",
              "26     3  0.201519  ...   8144.429979                            age + bmi + region\n",
              "48     4  0.204034  ...   8116.930668                    age + sex + bmi + children\n",
              "3      4  0.695101  ...   2357.791561              bmi + children + smoker + region\n",
              "6      4  0.886860  ...    108.881045              age + children + smoker + region\n",
              "34     4  0.893155  ...     35.057141                 age + bmi + children + smoker\n",
              "36     4  0.885650  ...    123.079849                 age + sex + children + smoker\n",
              "9      4  0.687303  ...   2449.245224                   sex + bmi + smoker + region\n",
              "10     4  0.890295  ...     68.603831                   age + bmi + smoker + region\n",
              "12     4  0.881623  ...    170.302311                   age + sex + smoker + region\n",
              "40     4  0.888569  ...     88.841073                      age + sex + bmi + smoker\n",
              "18     4  0.205504  ...   8099.697849                 age + bmi + children + region\n",
              "17     4  0.033951  ...  10111.632364                 sex + bmi + children + region\n",
              "24     4  0.203984  ...   8117.516020                      age + sex + bmi + region\n",
              "33     4  0.692086  ...   2393.149521                 sex + bmi + children + smoker\n",
              "5      4  0.675659  ...   2585.809126              sex + children + smoker + region\n",
              "20     4  0.199105  ...   8174.740037                 age + sex + children + region\n",
              "4      5  0.887200  ...    106.891606        age + sex + children + smoker + region\n",
              "16     5  0.207806  ...   8074.696356           age + sex + bmi + children + region\n",
              "2      5  0.895389  ...     10.851845        age + bmi + children + smoker + region\n",
              "32     5  0.893602  ...     31.820429           age + sex + bmi + children + smoker\n",
              "1      5  0.696340  ...   2345.267616        sex + bmi + children + smoker + region\n",
              "8      5  0.890709  ...     65.745058             age + sex + bmi + smoker + region\n",
              "0      6  0.895888  ...      7.000000  age + sex + bmi + children + smoker + region\n",
              "\n",
              "[63 rows x 7 columns]"
            ]
          },
          "metadata": {
            "tags": []
          },
          "execution_count": 50
        }
      ]
    },
    {
      "cell_type": "markdown",
      "metadata": {
        "id": "TonZDBr7MahO"
      },
      "source": [
        "### (3) Final Model"
      ]
    },
    {
      "cell_type": "code",
      "metadata": {
        "colab": {
          "base_uri": "https://localhost:8080/",
          "height": 591
        },
        "id": "eeGk30OFFXQ8",
        "outputId": "23c3b42c-3ef3-430d-8906-a50bd5acc334"
      },
      "source": [
        "model_final = smf.ols('fitted_charges ~ smoker + age + bmi + children + region + sex', data=df_boxcox).fit()\n",
        "model_final.summary()"
      ],
      "execution_count": null,
      "outputs": [
        {
          "output_type": "execute_result",
          "data": {
            "text/html": [
              "<table class=\"simpletable\">\n",
              "<caption>OLS Regression Results</caption>\n",
              "<tr>\n",
              "  <th>Dep. Variable:</th>     <td>fitted_charges</td>  <th>  R-squared:         </th> <td>   0.896</td> \n",
              "</tr>\n",
              "<tr>\n",
              "  <th>Model:</th>                   <td>OLS</td>       <th>  Adj. R-squared:    </th> <td>   0.895</td> \n",
              "</tr>\n",
              "<tr>\n",
              "  <th>Method:</th>             <td>Least Squares</td>  <th>  F-statistic:       </th> <td>   1311.</td> \n",
              "</tr>\n",
              "<tr>\n",
              "  <th>Date:</th>             <td>Sun, 29 Nov 2020</td> <th>  Prob (F-statistic):</th>  <td>  0.00</td>  \n",
              "</tr>\n",
              "<tr>\n",
              "  <th>Time:</th>                 <td>18:10:16</td>     <th>  Log-Likelihood:    </th> <td> -71110.</td> \n",
              "</tr>\n",
              "<tr>\n",
              "  <th>No. Observations:</th>      <td>  1228</td>      <th>  AIC:               </th> <td>1.422e+05</td>\n",
              "</tr>\n",
              "<tr>\n",
              "  <th>Df Residuals:</th>          <td>  1219</td>      <th>  BIC:               </th> <td>1.423e+05</td>\n",
              "</tr>\n",
              "<tr>\n",
              "  <th>Df Model:</th>              <td>     8</td>      <th>                     </th>     <td> </td>    \n",
              "</tr>\n",
              "<tr>\n",
              "  <th>Covariance Type:</th>      <td>nonrobust</td>    <th>                     </th>     <td> </td>    \n",
              "</tr>\n",
              "</table>\n",
              "<table class=\"simpletable\">\n",
              "<tr>\n",
              "           <td></td>              <th>coef</th>     <th>std err</th>      <th>t</th>      <th>P>|t|</th>  <th>[0.025</th>    <th>0.975]</th>  \n",
              "</tr>\n",
              "<tr>\n",
              "  <th>Intercept</th>           <td> 4.526e+25</td> <td> 5.96e+23</td> <td>   75.909</td> <td> 0.000</td> <td> 4.41e+25</td> <td> 4.64e+25</td>\n",
              "</tr>\n",
              "<tr>\n",
              "  <th>smoker[T.yes]</th>       <td>-2.261e+25</td> <td> 2.52e+23</td> <td>  -89.758</td> <td> 0.000</td> <td>-2.31e+25</td> <td>-2.21e+25</td>\n",
              "</tr>\n",
              "<tr>\n",
              "  <th>region[T.northwest]</th> <td> 1.098e+24</td> <td> 2.82e+23</td> <td>    3.901</td> <td> 0.000</td> <td> 5.46e+23</td> <td> 1.65e+24</td>\n",
              "</tr>\n",
              "<tr>\n",
              "  <th>region[T.southeast]</th> <td>  1.34e+24</td> <td> 2.84e+23</td> <td>    4.724</td> <td> 0.000</td> <td> 7.83e+23</td> <td>  1.9e+24</td>\n",
              "</tr>\n",
              "<tr>\n",
              "  <th>region[T.southwest]</th> <td> 1.085e+24</td> <td> 2.81e+23</td> <td>    3.861</td> <td> 0.000</td> <td> 5.33e+23</td> <td> 1.64e+24</td>\n",
              "</tr>\n",
              "<tr>\n",
              "  <th>sex[T.male]</th>         <td> 4.743e+23</td> <td> 1.96e+23</td> <td>    2.417</td> <td> 0.016</td> <td> 8.93e+22</td> <td> 8.59e+23</td>\n",
              "</tr>\n",
              "<tr>\n",
              "  <th>age</th>                 <td>-3.401e+23</td> <td> 7.04e+21</td> <td>  -48.337</td> <td> 0.000</td> <td>-3.54e+23</td> <td>-3.26e+23</td>\n",
              "</tr>\n",
              "<tr>\n",
              "  <th>bmi</th>                 <td>-1.746e+23</td> <td> 1.73e+22</td> <td>  -10.086</td> <td> 0.000</td> <td>-2.09e+23</td> <td>-1.41e+23</td>\n",
              "</tr>\n",
              "<tr>\n",
              "  <th>children</th>            <td>-6.334e+23</td> <td> 8.13e+22</td> <td>   -7.788</td> <td> 0.000</td> <td>-7.93e+23</td> <td>-4.74e+23</td>\n",
              "</tr>\n",
              "</table>\n",
              "<table class=\"simpletable\">\n",
              "<tr>\n",
              "  <th>Omnibus:</th>       <td>461.734</td> <th>  Durbin-Watson:     </th> <td>   2.045</td>\n",
              "</tr>\n",
              "<tr>\n",
              "  <th>Prob(Omnibus):</th> <td> 0.000</td>  <th>  Jarque-Bera (JB):  </th> <td>2062.225</td>\n",
              "</tr>\n",
              "<tr>\n",
              "  <th>Skew:</th>          <td>-1.737</td>  <th>  Prob(JB):          </th> <td>    0.00</td>\n",
              "</tr>\n",
              "<tr>\n",
              "  <th>Kurtosis:</th>      <td> 8.314</td>  <th>  Cond. No.          </th> <td>    319.</td>\n",
              "</tr>\n",
              "</table><br/><br/>Warnings:<br/>[1] Standard Errors assume that the covariance matrix of the errors is correctly specified."
            ],
            "text/plain": [
              "<class 'statsmodels.iolib.summary.Summary'>\n",
              "\"\"\"\n",
              "                            OLS Regression Results                            \n",
              "==============================================================================\n",
              "Dep. Variable:         fitted_charges   R-squared:                       0.896\n",
              "Model:                            OLS   Adj. R-squared:                  0.895\n",
              "Method:                 Least Squares   F-statistic:                     1311.\n",
              "Date:                Sun, 29 Nov 2020   Prob (F-statistic):               0.00\n",
              "Time:                        18:10:16   Log-Likelihood:                -71110.\n",
              "No. Observations:                1228   AIC:                         1.422e+05\n",
              "Df Residuals:                    1219   BIC:                         1.423e+05\n",
              "Df Model:                           8                                         \n",
              "Covariance Type:            nonrobust                                         \n",
              "=======================================================================================\n",
              "                          coef    std err          t      P>|t|      [0.025      0.975]\n",
              "---------------------------------------------------------------------------------------\n",
              "Intercept            4.526e+25   5.96e+23     75.909      0.000    4.41e+25    4.64e+25\n",
              "smoker[T.yes]       -2.261e+25   2.52e+23    -89.758      0.000   -2.31e+25   -2.21e+25\n",
              "region[T.northwest]  1.098e+24   2.82e+23      3.901      0.000    5.46e+23    1.65e+24\n",
              "region[T.southeast]   1.34e+24   2.84e+23      4.724      0.000    7.83e+23     1.9e+24\n",
              "region[T.southwest]  1.085e+24   2.81e+23      3.861      0.000    5.33e+23    1.64e+24\n",
              "sex[T.male]          4.743e+23   1.96e+23      2.417      0.016    8.93e+22    8.59e+23\n",
              "age                 -3.401e+23   7.04e+21    -48.337      0.000   -3.54e+23   -3.26e+23\n",
              "bmi                 -1.746e+23   1.73e+22    -10.086      0.000   -2.09e+23   -1.41e+23\n",
              "children            -6.334e+23   8.13e+22     -7.788      0.000   -7.93e+23   -4.74e+23\n",
              "==============================================================================\n",
              "Omnibus:                      461.734   Durbin-Watson:                   2.045\n",
              "Prob(Omnibus):                  0.000   Jarque-Bera (JB):             2062.225\n",
              "Skew:                          -1.737   Prob(JB):                         0.00\n",
              "Kurtosis:                       8.314   Cond. No.                         319.\n",
              "==============================================================================\n",
              "\n",
              "Warnings:\n",
              "[1] Standard Errors assume that the covariance matrix of the errors is correctly specified.\n",
              "\"\"\""
            ]
          },
          "metadata": {
            "tags": []
          },
          "execution_count": 51
        }
      ]
    },
    {
      "cell_type": "code",
      "metadata": {
        "id": "iZfeUZRCMrv3"
      },
      "source": [
        ""
      ],
      "execution_count": null,
      "outputs": []
    }
  ]
}